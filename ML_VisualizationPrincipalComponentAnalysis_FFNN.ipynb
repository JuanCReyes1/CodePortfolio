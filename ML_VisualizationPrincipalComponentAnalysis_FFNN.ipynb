{
  "nbformat": 4,
  "nbformat_minor": 0,
  "metadata": {
    "colab": {
      "name": "ML_VisualizationPrincipalComponentAnalysis_FFNN.ipynb",
      "provenance": [],
      "authorship_tag": "ABX9TyOUA/qUL2spPAB3fZf39olo",
      "include_colab_link": true
    },
    "kernelspec": {
      "name": "python3",
      "display_name": "Python 3"
    }
  },
  "cells": [
    {
      "cell_type": "markdown",
      "metadata": {
        "id": "view-in-github",
        "colab_type": "text"
      },
      "source": [
        "<a href=\"https://colab.research.google.com/github/JuanCReyes1/CodePortfolio/blob/main/ML_VisualizationPrincipalComponentAnalysis_FFNN.ipynb\" target=\"_parent\"><img src=\"https://colab.research.google.com/assets/colab-badge.svg\" alt=\"Open In Colab\"/></a>"
      ]
    },
    {
      "cell_type": "markdown",
      "metadata": {
        "id": "6k6ayXHMsUSR"
      },
      "source": [
        "#CSCI 6505 - Machine Learning \n",
        "\n",
        "## Data Dimensionality Reduction \n",
        "### Principal Components Analysis for Data Visualization\n",
        "\n",
        "### Dalhousie University\n",
        "### Juan C. Reyes\n",
        "\n",
        "#### PCA for Data Visualization: The IRIS Dataset"
      ]
    },
    {
      "cell_type": "code",
      "metadata": {
        "id": "PjA17hBqrkhp"
      },
      "source": [
        "import numpy as np\n",
        "import matplotlib.pyplot as plt\n",
        "import pandas as pd\n",
        "\n",
        "from sklearn.decomposition import PCA\n",
        "from sklearn.preprocessing import StandardScaler\n",
        "\n",
        "%matplotlib inline"
      ],
      "execution_count": null,
      "outputs": []
    },
    {
      "cell_type": "markdown",
      "metadata": {
        "id": "P-u41IEvsSx1"
      },
      "source": [
        "#Import the Iris Dataset"
      ]
    },
    {
      "cell_type": "code",
      "metadata": {
        "id": "lOLZ3Pv0sMoI"
      },
      "source": [
        "from sklearn.datasets import load_iris\n",
        "\n",
        "iris_data_sk = load_iris() #import data from the sklearn datasets library\n",
        "\n",
        "iris_data_pd = pd.DataFrame(iris_data_sk.data, columns = iris_data_sk.feature_names) #convert to a pandas dataframe\n",
        "iris_data_pd['target'] = pd.Series(iris_data_sk.target) #create and append a new column for target features\n",
        "\n",
        "#dataset feature names\n",
        "features = iris_data_pd.columns[0:4] #the feature names of the IRIS dataset \n",
        "#######target value dictionaries########\n",
        "\n",
        "#dictionary containing numeric index values to convert target names\n",
        "dictionary = {\n",
        "    0: str(iris_data_sk.target_names[0]),\n",
        "    1: str(iris_data_sk.target_names[1]),\n",
        "    2: str(iris_data_sk.target_names[2])\n",
        "}\n",
        "\n",
        "#dictionary containing  target names to index value\n",
        "inverted_dict = dict(map(reversed, dictionary.items()))\n",
        "\n",
        "##Converting numeric indices to their names\n",
        "iris_data_pd = iris_data_pd.replace({'target': dictionary})\n",
        "##Converting names back to numeric indices\n",
        "#iris_data_pd = iris_data_pd.replace({'target': inverted_dict})\n",
        "#Another way of doing so\n",
        "#iris_data_pd[\"target\"] = iris_data_pd[\"target\"].map(inverted_dict)"
      ],
      "execution_count": null,
      "outputs": []
    },
    {
      "cell_type": "markdown",
      "metadata": {
        "id": "oumuUzvaE4jz"
      },
      "source": [
        "Obtain general information regarding the dataset:"
      ]
    },
    {
      "cell_type": "code",
      "metadata": {
        "id": "uVUj2ElLrBdQ",
        "colab": {
          "base_uri": "https://localhost:8080/",
          "height": 297
        },
        "outputId": "7d697465-e065-4156-c5ba-f8cde6e75945"
      },
      "source": [
        "iris_data_pd.describe()"
      ],
      "execution_count": null,
      "outputs": [
        {
          "output_type": "execute_result",
          "data": {
            "text/html": [
              "<div>\n",
              "<style scoped>\n",
              "    .dataframe tbody tr th:only-of-type {\n",
              "        vertical-align: middle;\n",
              "    }\n",
              "\n",
              "    .dataframe tbody tr th {\n",
              "        vertical-align: top;\n",
              "    }\n",
              "\n",
              "    .dataframe thead th {\n",
              "        text-align: right;\n",
              "    }\n",
              "</style>\n",
              "<table border=\"1\" class=\"dataframe\">\n",
              "  <thead>\n",
              "    <tr style=\"text-align: right;\">\n",
              "      <th></th>\n",
              "      <th>sepal length (cm)</th>\n",
              "      <th>sepal width (cm)</th>\n",
              "      <th>petal length (cm)</th>\n",
              "      <th>petal width (cm)</th>\n",
              "    </tr>\n",
              "  </thead>\n",
              "  <tbody>\n",
              "    <tr>\n",
              "      <th>count</th>\n",
              "      <td>150.000000</td>\n",
              "      <td>150.000000</td>\n",
              "      <td>150.000000</td>\n",
              "      <td>150.000000</td>\n",
              "    </tr>\n",
              "    <tr>\n",
              "      <th>mean</th>\n",
              "      <td>5.843333</td>\n",
              "      <td>3.057333</td>\n",
              "      <td>3.758000</td>\n",
              "      <td>1.199333</td>\n",
              "    </tr>\n",
              "    <tr>\n",
              "      <th>std</th>\n",
              "      <td>0.828066</td>\n",
              "      <td>0.435866</td>\n",
              "      <td>1.765298</td>\n",
              "      <td>0.762238</td>\n",
              "    </tr>\n",
              "    <tr>\n",
              "      <th>min</th>\n",
              "      <td>4.300000</td>\n",
              "      <td>2.000000</td>\n",
              "      <td>1.000000</td>\n",
              "      <td>0.100000</td>\n",
              "    </tr>\n",
              "    <tr>\n",
              "      <th>25%</th>\n",
              "      <td>5.100000</td>\n",
              "      <td>2.800000</td>\n",
              "      <td>1.600000</td>\n",
              "      <td>0.300000</td>\n",
              "    </tr>\n",
              "    <tr>\n",
              "      <th>50%</th>\n",
              "      <td>5.800000</td>\n",
              "      <td>3.000000</td>\n",
              "      <td>4.350000</td>\n",
              "      <td>1.300000</td>\n",
              "    </tr>\n",
              "    <tr>\n",
              "      <th>75%</th>\n",
              "      <td>6.400000</td>\n",
              "      <td>3.300000</td>\n",
              "      <td>5.100000</td>\n",
              "      <td>1.800000</td>\n",
              "    </tr>\n",
              "    <tr>\n",
              "      <th>max</th>\n",
              "      <td>7.900000</td>\n",
              "      <td>4.400000</td>\n",
              "      <td>6.900000</td>\n",
              "      <td>2.500000</td>\n",
              "    </tr>\n",
              "  </tbody>\n",
              "</table>\n",
              "</div>"
            ],
            "text/plain": [
              "       sepal length (cm)  sepal width (cm)  petal length (cm)  petal width (cm)\n",
              "count         150.000000        150.000000         150.000000        150.000000\n",
              "mean            5.843333          3.057333           3.758000          1.199333\n",
              "std             0.828066          0.435866           1.765298          0.762238\n",
              "min             4.300000          2.000000           1.000000          0.100000\n",
              "25%             5.100000          2.800000           1.600000          0.300000\n",
              "50%             5.800000          3.000000           4.350000          1.300000\n",
              "75%             6.400000          3.300000           5.100000          1.800000\n",
              "max             7.900000          4.400000           6.900000          2.500000"
            ]
          },
          "metadata": {
            "tags": []
          },
          "execution_count": 39
        }
      ]
    },
    {
      "cell_type": "markdown",
      "metadata": {
        "id": "ZHDIFxvXE_o9"
      },
      "source": [
        "Observe the first 5 rows from the dataset:"
      ]
    },
    {
      "cell_type": "code",
      "metadata": {
        "id": "aGas4hNQsswY",
        "colab": {
          "base_uri": "https://localhost:8080/",
          "height": 204
        },
        "outputId": "c95a3c0c-a349-4afe-bf85-9509c5949bc2"
      },
      "source": [
        "iris_data_pd.head()"
      ],
      "execution_count": null,
      "outputs": [
        {
          "output_type": "execute_result",
          "data": {
            "text/html": [
              "<div>\n",
              "<style scoped>\n",
              "    .dataframe tbody tr th:only-of-type {\n",
              "        vertical-align: middle;\n",
              "    }\n",
              "\n",
              "    .dataframe tbody tr th {\n",
              "        vertical-align: top;\n",
              "    }\n",
              "\n",
              "    .dataframe thead th {\n",
              "        text-align: right;\n",
              "    }\n",
              "</style>\n",
              "<table border=\"1\" class=\"dataframe\">\n",
              "  <thead>\n",
              "    <tr style=\"text-align: right;\">\n",
              "      <th></th>\n",
              "      <th>sepal length (cm)</th>\n",
              "      <th>sepal width (cm)</th>\n",
              "      <th>petal length (cm)</th>\n",
              "      <th>petal width (cm)</th>\n",
              "      <th>target</th>\n",
              "    </tr>\n",
              "  </thead>\n",
              "  <tbody>\n",
              "    <tr>\n",
              "      <th>0</th>\n",
              "      <td>5.1</td>\n",
              "      <td>3.5</td>\n",
              "      <td>1.4</td>\n",
              "      <td>0.2</td>\n",
              "      <td>setosa</td>\n",
              "    </tr>\n",
              "    <tr>\n",
              "      <th>1</th>\n",
              "      <td>4.9</td>\n",
              "      <td>3.0</td>\n",
              "      <td>1.4</td>\n",
              "      <td>0.2</td>\n",
              "      <td>setosa</td>\n",
              "    </tr>\n",
              "    <tr>\n",
              "      <th>2</th>\n",
              "      <td>4.7</td>\n",
              "      <td>3.2</td>\n",
              "      <td>1.3</td>\n",
              "      <td>0.2</td>\n",
              "      <td>setosa</td>\n",
              "    </tr>\n",
              "    <tr>\n",
              "      <th>3</th>\n",
              "      <td>4.6</td>\n",
              "      <td>3.1</td>\n",
              "      <td>1.5</td>\n",
              "      <td>0.2</td>\n",
              "      <td>setosa</td>\n",
              "    </tr>\n",
              "    <tr>\n",
              "      <th>4</th>\n",
              "      <td>5.0</td>\n",
              "      <td>3.6</td>\n",
              "      <td>1.4</td>\n",
              "      <td>0.2</td>\n",
              "      <td>setosa</td>\n",
              "    </tr>\n",
              "  </tbody>\n",
              "</table>\n",
              "</div>"
            ],
            "text/plain": [
              "   sepal length (cm)  sepal width (cm)  ...  petal width (cm)  target\n",
              "0                5.1               3.5  ...               0.2  setosa\n",
              "1                4.9               3.0  ...               0.2  setosa\n",
              "2                4.7               3.2  ...               0.2  setosa\n",
              "3                4.6               3.1  ...               0.2  setosa\n",
              "4                5.0               3.6  ...               0.2  setosa\n",
              "\n",
              "[5 rows x 5 columns]"
            ]
          },
          "metadata": {
            "tags": []
          },
          "execution_count": 40
        }
      ]
    },
    {
      "cell_type": "markdown",
      "metadata": {
        "id": "1L3ctvowFfot"
      },
      "source": [
        "Obtain more general statistics by creating a pairplot using the seaborn library.\n",
        "\n",
        "A pairplot plots the pairwise relationships in the datset. \n",
        "The function creates a grid of Axes such that each numeric variable in data is shared in the y-axis across a single row, and in the x-axis across a single column.\n",
        "\n",
        "The diagonal axes draw a plot to show the univariate distribution of the data for the variable in that column."
      ]
    },
    {
      "cell_type": "code",
      "metadata": {
        "id": "erdzzISmsNUo",
        "colab": {
          "base_uri": "https://localhost:8080/",
          "height": 726
        },
        "outputId": "c33a1db8-37a7-4afa-8dd8-02a298fce2c5"
      },
      "source": [
        "import seaborn as sb\n",
        "sb.pairplot(iris_data_pd.dropna(), hue='target');"
      ],
      "execution_count": null,
      "outputs": [
        {
          "output_type": "display_data",
          "data": {
            "image/png": "[encoded data removed]",
            "text/plain": [
              "<Figure size 804.75x720 with 20 Axes>"
            ]
          },
          "metadata": {
            "tags": [],
            "needs_background": "light"
          }
        }
      ]
    },
    {
      "cell_type": "markdown",
      "metadata": {
        "id": "A0Sp0v2AGAgo"
      },
      "source": [
        "# Preparation for applying Principal Components Analysis"
      ]
    },
    {
      "cell_type": "markdown",
      "metadata": {
        "id": "LYbcmX86GCxy"
      },
      "source": [
        "Begin by partitioning our data.\n",
        "\n",
        "x: contains our feature's data.\n",
        "\n",
        "y: contains our target values."
      ]
    },
    {
      "cell_type": "code",
      "metadata": {
        "id": "kIHKyQUFz2_c"
      },
      "source": [
        "x = iris_data_pd.loc[:,features].values\n",
        "y = iris_data_pd.loc[:, ['target']].values"
      ],
      "execution_count": null,
      "outputs": []
    },
    {
      "cell_type": "markdown",
      "metadata": {
        "id": "7rmYAEvMGkKg"
      },
      "source": [
        "We apply the fit_transform() function to take our data, calculate the average and standard deviation. Given these parameters we apply sklearn's StandardScaler() function which standardizes features by removing the mean and scaling to unit variance.\n"
      ]
    },
    {
      "cell_type": "code",
      "metadata": {
        "id": "0SPJRPbTC_9S"
      },
      "source": [
        "x = StandardScaler().fit_transform(x)"
      ],
      "execution_count": null,
      "outputs": []
    },
    {
      "cell_type": "markdown",
      "metadata": {
        "id": "cy4wkN7mHSfX"
      },
      "source": [
        "## Display the scaled data:"
      ]
    },
    {
      "cell_type": "code",
      "metadata": {
        "id": "JSCQwwngHCqn",
        "colab": {
          "base_uri": "https://localhost:8080/",
          "height": 204
        },
        "outputId": "6f7685e6-ba3b-4830-dbad-0924fb324b13"
      },
      "source": [
        "pd.DataFrame(data = x, columns = features ).head()"
      ],
      "execution_count": null,
      "outputs": [
        {
          "output_type": "execute_result",
          "data": {
            "text/html": [
              "<div>\n",
              "<style scoped>\n",
              "    .dataframe tbody tr th:only-of-type {\n",
              "        vertical-align: middle;\n",
              "    }\n",
              "\n",
              "    .dataframe tbody tr th {\n",
              "        vertical-align: top;\n",
              "    }\n",
              "\n",
              "    .dataframe thead th {\n",
              "        text-align: right;\n",
              "    }\n",
              "</style>\n",
              "<table border=\"1\" class=\"dataframe\">\n",
              "  <thead>\n",
              "    <tr style=\"text-align: right;\">\n",
              "      <th></th>\n",
              "      <th>sepal length (cm)</th>\n",
              "      <th>sepal width (cm)</th>\n",
              "      <th>petal length (cm)</th>\n",
              "      <th>petal width (cm)</th>\n",
              "    </tr>\n",
              "  </thead>\n",
              "  <tbody>\n",
              "    <tr>\n",
              "      <th>0</th>\n",
              "      <td>-0.900681</td>\n",
              "      <td>1.019004</td>\n",
              "      <td>-1.340227</td>\n",
              "      <td>-1.315444</td>\n",
              "    </tr>\n",
              "    <tr>\n",
              "      <th>1</th>\n",
              "      <td>-1.143017</td>\n",
              "      <td>-0.131979</td>\n",
              "      <td>-1.340227</td>\n",
              "      <td>-1.315444</td>\n",
              "    </tr>\n",
              "    <tr>\n",
              "      <th>2</th>\n",
              "      <td>-1.385353</td>\n",
              "      <td>0.328414</td>\n",
              "      <td>-1.397064</td>\n",
              "      <td>-1.315444</td>\n",
              "    </tr>\n",
              "    <tr>\n",
              "      <th>3</th>\n",
              "      <td>-1.506521</td>\n",
              "      <td>0.098217</td>\n",
              "      <td>-1.283389</td>\n",
              "      <td>-1.315444</td>\n",
              "    </tr>\n",
              "    <tr>\n",
              "      <th>4</th>\n",
              "      <td>-1.021849</td>\n",
              "      <td>1.249201</td>\n",
              "      <td>-1.340227</td>\n",
              "      <td>-1.315444</td>\n",
              "    </tr>\n",
              "  </tbody>\n",
              "</table>\n",
              "</div>"
            ],
            "text/plain": [
              "   sepal length (cm)  sepal width (cm)  petal length (cm)  petal width (cm)\n",
              "0          -0.900681          1.019004          -1.340227         -1.315444\n",
              "1          -1.143017         -0.131979          -1.340227         -1.315444\n",
              "2          -1.385353          0.328414          -1.397064         -1.315444\n",
              "3          -1.506521          0.098217          -1.283389         -1.315444\n",
              "4          -1.021849          1.249201          -1.340227         -1.315444"
            ]
          },
          "metadata": {
            "tags": []
          },
          "execution_count": 44
        }
      ]
    },
    {
      "cell_type": "markdown",
      "metadata": {
        "id": "SY-KZg_eKkVC"
      },
      "source": [
        "# Principal Components Analysis\n",
        "\n",
        "**Principal components analysis** (PCA) is one of a family of techniques for taking high-dimensional data, and using the dependencies between the variables to represent it in a more tractable, lower-dimensional form. PCA is a relatively simple way of performing **dimensionality reduction**. \n",
        "\n",
        "It turns out that the geometry of the resulting coordinate system is determined by the Principal Components that are uncorrelated (orthogonal) to each other, but display maximal correlation with the measurements.\n",
        "\n",
        "In the following code we will apply PCA to the scaled IRIS data to obtain the data onto a q=4 dimensional space. We will then project onto lower dimensions to visualize the data and study wether the technique was helpful in classifying the distinct IRIS classes."
      ]
    },
    {
      "cell_type": "markdown",
      "metadata": {
        "id": "A7VnHisiUUgg"
      },
      "source": [
        "Retaining Four Dimensions:"
      ]
    },
    {
      "cell_type": "code",
      "metadata": {
        "id": "5EIX4Gp1KuNM",
        "colab": {
          "base_uri": "https://localhost:8080/",
          "height": 419
        },
        "outputId": "70ed20ca-56d5-43cc-8067-d47398e69b47"
      },
      "source": [
        "n_components = 4\n",
        "pca= PCA(n_components)\n",
        "principalComponents = pca.fit_transform(x)\n",
        "principalDF = pd.DataFrame(data = principalComponents,\n",
        "                           columns = ['PCA1','PCA2','PCA3','PCA4'])\n",
        "\n",
        "principalDF"
      ],
      "execution_count": null,
      "outputs": [
        {
          "output_type": "execute_result",
          "data": {
            "text/html": [
              "<div>\n",
              "<style scoped>\n",
              "    .dataframe tbody tr th:only-of-type {\n",
              "        vertical-align: middle;\n",
              "    }\n",
              "\n",
              "    .dataframe tbody tr th {\n",
              "        vertical-align: top;\n",
              "    }\n",
              "\n",
              "    .dataframe thead th {\n",
              "        text-align: right;\n",
              "    }\n",
              "</style>\n",
              "<table border=\"1\" class=\"dataframe\">\n",
              "  <thead>\n",
              "    <tr style=\"text-align: right;\">\n",
              "      <th></th>\n",
              "      <th>PCA1</th>\n",
              "      <th>PCA2</th>\n",
              "      <th>PCA3</th>\n",
              "      <th>PCA4</th>\n",
              "    </tr>\n",
              "  </thead>\n",
              "  <tbody>\n",
              "    <tr>\n",
              "      <th>0</th>\n",
              "      <td>-2.264703</td>\n",
              "      <td>0.480027</td>\n",
              "      <td>-0.127706</td>\n",
              "      <td>-0.024168</td>\n",
              "    </tr>\n",
              "    <tr>\n",
              "      <th>1</th>\n",
              "      <td>-2.080961</td>\n",
              "      <td>-0.674134</td>\n",
              "      <td>-0.234609</td>\n",
              "      <td>-0.103007</td>\n",
              "    </tr>\n",
              "    <tr>\n",
              "      <th>2</th>\n",
              "      <td>-2.364229</td>\n",
              "      <td>-0.341908</td>\n",
              "      <td>0.044201</td>\n",
              "      <td>-0.028377</td>\n",
              "    </tr>\n",
              "    <tr>\n",
              "      <th>3</th>\n",
              "      <td>-2.299384</td>\n",
              "      <td>-0.597395</td>\n",
              "      <td>0.091290</td>\n",
              "      <td>0.065956</td>\n",
              "    </tr>\n",
              "    <tr>\n",
              "      <th>4</th>\n",
              "      <td>-2.389842</td>\n",
              "      <td>0.646835</td>\n",
              "      <td>0.015738</td>\n",
              "      <td>0.035923</td>\n",
              "    </tr>\n",
              "    <tr>\n",
              "      <th>...</th>\n",
              "      <td>...</td>\n",
              "      <td>...</td>\n",
              "      <td>...</td>\n",
              "      <td>...</td>\n",
              "    </tr>\n",
              "    <tr>\n",
              "      <th>145</th>\n",
              "      <td>1.870503</td>\n",
              "      <td>0.386966</td>\n",
              "      <td>0.256274</td>\n",
              "      <td>-0.389257</td>\n",
              "    </tr>\n",
              "    <tr>\n",
              "      <th>146</th>\n",
              "      <td>1.564580</td>\n",
              "      <td>-0.896687</td>\n",
              "      <td>-0.026371</td>\n",
              "      <td>-0.220192</td>\n",
              "    </tr>\n",
              "    <tr>\n",
              "      <th>147</th>\n",
              "      <td>1.521170</td>\n",
              "      <td>0.269069</td>\n",
              "      <td>0.180178</td>\n",
              "      <td>-0.119171</td>\n",
              "    </tr>\n",
              "    <tr>\n",
              "      <th>148</th>\n",
              "      <td>1.372788</td>\n",
              "      <td>1.011254</td>\n",
              "      <td>0.933395</td>\n",
              "      <td>-0.026129</td>\n",
              "    </tr>\n",
              "    <tr>\n",
              "      <th>149</th>\n",
              "      <td>0.960656</td>\n",
              "      <td>-0.024332</td>\n",
              "      <td>0.528249</td>\n",
              "      <td>0.163078</td>\n",
              "    </tr>\n",
              "  </tbody>\n",
              "</table>\n",
              "<p>150 rows × 4 columns</p>\n",
              "</div>"
            ],
            "text/plain": [
              "         PCA1      PCA2      PCA3      PCA4\n",
              "0   -2.264703  0.480027 -0.127706 -0.024168\n",
              "1   -2.080961 -0.674134 -0.234609 -0.103007\n",
              "2   -2.364229 -0.341908  0.044201 -0.028377\n",
              "3   -2.299384 -0.597395  0.091290  0.065956\n",
              "4   -2.389842  0.646835  0.015738  0.035923\n",
              "..        ...       ...       ...       ...\n",
              "145  1.870503  0.386966  0.256274 -0.389257\n",
              "146  1.564580 -0.896687 -0.026371 -0.220192\n",
              "147  1.521170  0.269069  0.180178 -0.119171\n",
              "148  1.372788  1.011254  0.933395 -0.026129\n",
              "149  0.960656 -0.024332  0.528249  0.163078\n",
              "\n",
              "[150 rows x 4 columns]"
            ]
          },
          "metadata": {
            "tags": []
          },
          "execution_count": 45
        }
      ]
    },
    {
      "cell_type": "code",
      "metadata": {
        "id": "-dzDY57bLFqD",
        "colab": {
          "base_uri": "https://localhost:8080/"
        },
        "outputId": "398098d7-f05a-4350-923b-1cf1a166271a"
      },
      "source": [
        "iris_data_pd['target']"
      ],
      "execution_count": null,
      "outputs": [
        {
          "output_type": "execute_result",
          "data": {
            "text/plain": [
              "0         setosa\n",
              "1         setosa\n",
              "2         setosa\n",
              "3         setosa\n",
              "4         setosa\n",
              "         ...    \n",
              "145    virginica\n",
              "146    virginica\n",
              "147    virginica\n",
              "148    virginica\n",
              "149    virginica\n",
              "Name: target, Length: 150, dtype: object"
            ]
          },
          "metadata": {
            "tags": []
          },
          "execution_count": 46
        }
      ]
    },
    {
      "cell_type": "code",
      "metadata": {
        "id": "StLodIjiMoNl",
        "colab": {
          "base_uri": "https://localhost:8080/",
          "height": 419
        },
        "outputId": "50defccc-599f-4a5b-e8cf-44022e56f25d"
      },
      "source": [
        "principalDFcomp = pd.concat([principalDF, iris_data_pd[['target']]],axis = 1)\n",
        "principalDFcomp"
      ],
      "execution_count": null,
      "outputs": [
        {
          "output_type": "execute_result",
          "data": {
            "text/html": [
              "<div>\n",
              "<style scoped>\n",
              "    .dataframe tbody tr th:only-of-type {\n",
              "        vertical-align: middle;\n",
              "    }\n",
              "\n",
              "    .dataframe tbody tr th {\n",
              "        vertical-align: top;\n",
              "    }\n",
              "\n",
              "    .dataframe thead th {\n",
              "        text-align: right;\n",
              "    }\n",
              "</style>\n",
              "<table border=\"1\" class=\"dataframe\">\n",
              "  <thead>\n",
              "    <tr style=\"text-align: right;\">\n",
              "      <th></th>\n",
              "      <th>PCA1</th>\n",
              "      <th>PCA2</th>\n",
              "      <th>PCA3</th>\n",
              "      <th>PCA4</th>\n",
              "      <th>target</th>\n",
              "    </tr>\n",
              "  </thead>\n",
              "  <tbody>\n",
              "    <tr>\n",
              "      <th>0</th>\n",
              "      <td>-2.264703</td>\n",
              "      <td>0.480027</td>\n",
              "      <td>-0.127706</td>\n",
              "      <td>-0.024168</td>\n",
              "      <td>setosa</td>\n",
              "    </tr>\n",
              "    <tr>\n",
              "      <th>1</th>\n",
              "      <td>-2.080961</td>\n",
              "      <td>-0.674134</td>\n",
              "      <td>-0.234609</td>\n",
              "      <td>-0.103007</td>\n",
              "      <td>setosa</td>\n",
              "    </tr>\n",
              "    <tr>\n",
              "      <th>2</th>\n",
              "      <td>-2.364229</td>\n",
              "      <td>-0.341908</td>\n",
              "      <td>0.044201</td>\n",
              "      <td>-0.028377</td>\n",
              "      <td>setosa</td>\n",
              "    </tr>\n",
              "    <tr>\n",
              "      <th>3</th>\n",
              "      <td>-2.299384</td>\n",
              "      <td>-0.597395</td>\n",
              "      <td>0.091290</td>\n",
              "      <td>0.065956</td>\n",
              "      <td>setosa</td>\n",
              "    </tr>\n",
              "    <tr>\n",
              "      <th>4</th>\n",
              "      <td>-2.389842</td>\n",
              "      <td>0.646835</td>\n",
              "      <td>0.015738</td>\n",
              "      <td>0.035923</td>\n",
              "      <td>setosa</td>\n",
              "    </tr>\n",
              "    <tr>\n",
              "      <th>...</th>\n",
              "      <td>...</td>\n",
              "      <td>...</td>\n",
              "      <td>...</td>\n",
              "      <td>...</td>\n",
              "      <td>...</td>\n",
              "    </tr>\n",
              "    <tr>\n",
              "      <th>145</th>\n",
              "      <td>1.870503</td>\n",
              "      <td>0.386966</td>\n",
              "      <td>0.256274</td>\n",
              "      <td>-0.389257</td>\n",
              "      <td>virginica</td>\n",
              "    </tr>\n",
              "    <tr>\n",
              "      <th>146</th>\n",
              "      <td>1.564580</td>\n",
              "      <td>-0.896687</td>\n",
              "      <td>-0.026371</td>\n",
              "      <td>-0.220192</td>\n",
              "      <td>virginica</td>\n",
              "    </tr>\n",
              "    <tr>\n",
              "      <th>147</th>\n",
              "      <td>1.521170</td>\n",
              "      <td>0.269069</td>\n",
              "      <td>0.180178</td>\n",
              "      <td>-0.119171</td>\n",
              "      <td>virginica</td>\n",
              "    </tr>\n",
              "    <tr>\n",
              "      <th>148</th>\n",
              "      <td>1.372788</td>\n",
              "      <td>1.011254</td>\n",
              "      <td>0.933395</td>\n",
              "      <td>-0.026129</td>\n",
              "      <td>virginica</td>\n",
              "    </tr>\n",
              "    <tr>\n",
              "      <th>149</th>\n",
              "      <td>0.960656</td>\n",
              "      <td>-0.024332</td>\n",
              "      <td>0.528249</td>\n",
              "      <td>0.163078</td>\n",
              "      <td>virginica</td>\n",
              "    </tr>\n",
              "  </tbody>\n",
              "</table>\n",
              "<p>150 rows × 5 columns</p>\n",
              "</div>"
            ],
            "text/plain": [
              "         PCA1      PCA2      PCA3      PCA4     target\n",
              "0   -2.264703  0.480027 -0.127706 -0.024168     setosa\n",
              "1   -2.080961 -0.674134 -0.234609 -0.103007     setosa\n",
              "2   -2.364229 -0.341908  0.044201 -0.028377     setosa\n",
              "3   -2.299384 -0.597395  0.091290  0.065956     setosa\n",
              "4   -2.389842  0.646835  0.015738  0.035923     setosa\n",
              "..        ...       ...       ...       ...        ...\n",
              "145  1.870503  0.386966  0.256274 -0.389257  virginica\n",
              "146  1.564580 -0.896687 -0.026371 -0.220192  virginica\n",
              "147  1.521170  0.269069  0.180178 -0.119171  virginica\n",
              "148  1.372788  1.011254  0.933395 -0.026129  virginica\n",
              "149  0.960656 -0.024332  0.528249  0.163078  virginica\n",
              "\n",
              "[150 rows x 5 columns]"
            ]
          },
          "metadata": {
            "tags": []
          },
          "execution_count": 47
        }
      ]
    },
    {
      "cell_type": "markdown",
      "metadata": {
        "id": "ccst5zw8Nl2w"
      },
      "source": [
        "# Two-Dimensional Visualization\n",
        "\n",
        "We begin by projecting our four dimensional data onto two dimensions to visualize all our data in this space.\n"
      ]
    },
    {
      "cell_type": "code",
      "metadata": {
        "id": "ePyoVNQfNKUp",
        "colab": {
          "base_uri": "https://localhost:8080/",
          "height": 542
        },
        "outputId": "e93d19a4-4f16-46db-8a28-862270244f93"
      },
      "source": [
        "import plotly.express as px\n",
        "df = principalDFcomp\n",
        "fig = px.scatter(df, x=principalDFcomp.columns[0], y=principalDFcomp.columns[1], color=\"target\")\n",
        "fig.show()"
      ],
      "execution_count": null,
      "outputs": [
        {
          "output_type": "display_data",
          "data": {
            "text/html": [
              "<html>\n",
              "<head><meta charset=\"utf-8\" /></head>\n",
              "<body>\n",
              "    <div>\n",
              "            <script src=\"https://cdnjs.cloudflare.com/ajax/libs/mathjax/2.7.5/MathJax.js?config=TeX-AMS-MML_SVG\"></script><script type=\"text/javascript\">if (window.MathJax) {MathJax.Hub.Config({SVG: {font: \"STIX-Web\"}});}</script>\n",
              "                <script type=\"text/javascript\">window.PlotlyConfig = {MathJaxConfig: 'local'};</script>\n",
              "        <script src=\"https://cdn.plot.ly/plotly-latest.min.js\"></script>    \n",
              "            <div id=\"20a53ed2-a265-4347-b61a-1cc45fd81b99\" class=\"plotly-graph-div\" style=\"height:525px; width:100%;\"></div>\n",
              "            <script type=\"text/javascript\">\n",
              "                \n",
              "                    window.PLOTLYENV=window.PLOTLYENV || {};\n",
              "                    \n",
              "                if (document.getElementById(\"20a53ed2-a265-4347-b61a-1cc45fd81b99\")) {\n",
              "                    Plotly.newPlot(\n",
              "                        '20a53ed2-a265-4347-b61a-1cc45fd81b99',\n",
              "                        [{\"hoverlabel\": {\"namelength\": 0}, \"hovertemplate\": \"target=setosa<br>PCA1=%{x}<br>PCA2=%{y}\", \"legendgroup\": \"target=setosa\", \"marker\": {\"color\": \"#636efa\", \"symbol\": \"circle\"}, \"mode\": \"markers\", \"name\": \"target=setosa\", \"showlegend\": true, \"type\": \"scatter\", \"x\": [-2.2647028088075962, -2.0809611519657687, -2.3642290538903015, -2.2993842170427086, -2.389842166313845, -2.075630948176513, -2.444028835134153, -2.232847158872015, -2.3346404779076217, -2.1843281749339423, -2.166310100701323, -2.326130866442699, -2.2184508988224096, -2.6331006957652283, -2.1987406032666907, -2.262214531601022, -2.207587695824593, -2.190349509192299, -1.8985719958028429, -2.3433690530749938, -1.914322996082568, -2.207012843194799, -2.7743447029273325, -1.8186695286958499, -2.2271633057066387, -1.9518463309003762, -2.0511513727294157, -2.168577174654217, -2.139563451301332, -2.2652614931542416, -2.1401221356479843, -1.8315947706760287, -2.614947935858935, -2.4461773916965157, -2.1099748753186525, -2.207808899078266, -2.0451462067542017, -2.5273319131704866, -2.4296325750845464, -2.169710711630664, -2.2864751433456707, -1.8581224563735714, -2.5536383956143562, -1.9644476837637415, -2.1370590058116234, -2.06974429959183, -2.3847331657782633, -2.3943763142196333, -2.229446547942675, -2.203833435519131], \"xaxis\": \"x\", \"y\": [0.48002659652098906, -0.6741335566053536, -0.34190802388467684, -0.5973945076746764, 0.6468353829020268, 1.4891775233211666, 0.04764419763001348, 0.22314807268959136, -1.1153276754616672, -0.4690135614023761, 1.0436906530538599, 0.13307833523923104, -0.7286761653165713, -0.9615067291701639, 1.8600571132939314, 2.686284485110592, 1.4836093631555725, 0.48883831648632753, 1.4050187944665495, 1.1278493819084758, 0.4088557077559062, 0.9241214267468982, 0.45834366775291485, 0.08555852628736584, 0.13725445536342665, -0.625618587776677, 0.24216355266166667, 0.5271495253082673, 0.3132178101399517, -0.3377319037604812, -0.5045406901415189, 0.4236950676037859, 1.7935758561044284, 2.150727877392924, -0.4602018414370377, -0.20610739768843714, 0.6615581114631085, 0.5922927741908091, -0.9041800403761489, 0.2688789614354706, 0.4417153876990498, -2.337415157553348, -0.47910069012231493, 0.47232666771926046, 1.1422292620394083, -0.7110527253858945, 1.1204297019845357, -0.38624687258915796, 0.9979597643079803, 0.009216357521275934], \"yaxis\": \"y\"}, {\"hoverlabel\": {\"namelength\": 0}, \"hovertemplate\": \"target=versicolor<br>PCA1=%{x}<br>PCA2=%{y}\", \"legendgroup\": \"target=versicolor\", \"marker\": {\"color\": \"#EF553B\", \"symbol\": \"circle\"}, \"mode\": \"markers\", \"name\": \"target=versicolor\", \"showlegend\": true, \"type\": \"scatter\", \"x\": [1.1017811830529483, 0.7313374253960877, 1.2409793195158314, 0.4074830588173857, 1.0754747006090783, 0.38868733653566523, 0.746529741329161, -0.4873227421256394, 0.9279016383549457, 0.011426188736980284, -0.11019628000062837, 0.44069344898307855, 0.5621083064431794, 0.7195618886754969, -0.03335470317877217, 0.875407190857738, 0.35025166799508295, 0.15881004754797165, 1.2250936335624325, 0.16491789938632773, 0.7376826487712584, 0.47628719094097166, 1.23417809765715, 0.6328581997098223, 0.7026611831361824, 0.8742736538812906, 1.2565091165418838, 1.3584051214406323, 0.6648003672253952, -0.04025861090059527, 0.1307951754978611, 0.023452688970551326, 0.2415382729545112, 1.0610946088426145, 0.2239787735123798, 0.4291391155161607, 1.0487280512090877, 1.0445313843962796, 0.069588321116423, 0.28347723828757576, 0.27907777605546125, 0.6245697914985716, 0.3365303701314362, -0.362183384619383, 0.2885862388231576, 0.09136065565450532, 0.22771686553470014, 0.5763882886534789, -0.44766701902861145, 0.25673058888758493], \"xaxis\": \"x\", \"y\": [0.8629724182621596, 0.5946147256694247, 0.6162976544374991, -1.7544039893234107, -0.20842104605096515, -0.5932836359900755, 0.7730193120985965, -1.8524290868575748, 0.03222607789115433, -1.0340182751294411, -2.654072818536565, -0.06329518843800157, -1.7647243806169448, -0.18622460583150574, -0.4390032099816249, 0.5090639567734092, -0.19631173455144446, -0.7920957424327215, -1.6222438030915014, -1.3026092302957728, 0.39657156196023857, -0.4173202812135508, -0.9333257287992781, -0.4163877208890994, -0.06341181972479977, 0.2507933929006126, -0.0772560196958684, 0.3313116817908985, -0.22592785469484372, -1.0587185465539082, -1.5622718342099677, -1.5724755942167046, -0.777256382584842, -0.633843244734947, -0.28777351204320284, 0.8455822409050784, 0.5220517968629431, -1.382988719190781, -0.21950333464771535, -1.329324639069577, -1.120028523742404, 0.024923029254012675, -0.9884040176703602, -2.019237873238612, -0.8557303199870666, -0.18119212582577554, -0.38492008098735403, -0.1548735972165586, -1.5437920343977565, -0.5988517961556696], \"yaxis\": \"y\"}, {\"hoverlabel\": {\"namelength\": 0}, \"hovertemplate\": \"target=virginica<br>PCA1=%{x}<br>PCA2=%{y}\", \"legendgroup\": \"target=virginica\", \"marker\": {\"color\": \"#00cc96\", \"symbol\": \"circle\"}, \"mode\": \"markers\", \"name\": \"target=virginica\", \"showlegend\": true, \"type\": \"scatter\", \"x\": [1.8445688677230294, 1.15788161320578, 2.205266791075379, 1.44015066382754, 1.867812220330538, 2.7518733356662772, 0.36701768786072475, 2.3024394446251972, 2.0066864676766065, 2.2597773490125004, 1.3641754921860079, 1.6026786704779312, 1.8839007017032428, 1.2601150991975083, 1.4676452010173244, 1.590077317614566, 1.4714314611333188, 2.4263289873157, 3.3106955839338883, 1.263766673639829, 2.037716301469405, 0.977980734249422, 2.8976514907341695, 1.3332321759732095, 1.7007338974912174, 1.9543267058530711, 1.1751036315549332, 1.0209505506957914, 1.7883499201796662, 1.8636475533282617, 2.435953727922704, 2.3049277218317648, 1.862703219794956, 1.1141477406864753, 1.2024733016783913, 2.7987704475781086, 1.5762559101947546, 1.3462921036270623, 0.9248249165424198, 1.8520450517676705, 2.0148104299548764, 1.9017840902621896, 1.15788161320578, 2.0405582280520926, 1.9981470959523766, 1.8705032929564114, 1.564580483030329, 1.5211704996278381, 1.3727877895140732, 0.9606560300371284], \"xaxis\": \"x\", \"y\": [0.8704213123248228, -0.6988698623306908, 0.5620104770083562, -0.04698758810580661, 0.2950448244570197, 0.8004092010275428, -1.561502891476507, 0.42006557964277697, -0.7114386535471584, 1.9210103764598871, 0.6927564544903871, -0.4217004497726173, 0.4192496506051239, -1.1622604214064638, -0.442271587377083, 0.6762448057233199, 0.25562182447147064, 2.5566612507954933, 0.017780949320628125, -1.7067453803762673, 0.9104674096183111, -0.5717643248129923, 0.4136410595956487, -0.4818112186494293, 1.0139218673227917, 1.007777596153453, -0.3163944723097911, 0.06434602923956177, -0.1873612145908289, 0.5622907258861453, 0.259284433144281, 2.6263234682323797, -0.17854949462549055, -0.2929226233357313, -0.8113152708396687, 0.8568033294971065, 1.0685811073208074, 0.42243061085250827, 0.017223100452283997, 0.6761281744365218, 0.6138856369235752, 0.6895754942430029, -0.6988698623306908, 0.8675206009552285, 1.049168747184145, 0.3869660816657258, -0.896686808896526, 0.26906914427795176, 1.0112544185267927, -0.024331668169399655], \"yaxis\": \"y\"}],\n",
              "                        {\"legend\": {\"tracegroupgap\": 0}, \"margin\": {\"t\": 60}, \"template\": {\"data\": {\"bar\": [{\"error_x\": {\"color\": \"#2a3f5f\"}, \"error_y\": {\"color\": \"#2a3f5f\"}, \"marker\": {\"line\": {\"color\": \"#E5ECF6\", \"width\": 0.5}}, \"type\": \"bar\"}], \"barpolar\": [{\"marker\": {\"line\": {\"color\": \"#E5ECF6\", \"width\": 0.5}}, \"type\": \"barpolar\"}], \"carpet\": [{\"aaxis\": {\"endlinecolor\": \"#2a3f5f\", \"gridcolor\": \"white\", \"linecolor\": \"white\", \"minorgridcolor\": \"white\", \"startlinecolor\": \"#2a3f5f\"}, \"baxis\": {\"endlinecolor\": \"#2a3f5f\", \"gridcolor\": \"white\", \"linecolor\": \"white\", \"minorgridcolor\": \"white\", \"startlinecolor\": \"#2a3f5f\"}, \"type\": \"carpet\"}], \"choropleth\": [{\"colorbar\": {\"outlinewidth\": 0, \"ticks\": \"\"}, \"type\": \"choropleth\"}], \"contour\": [{\"colorbar\": {\"outlinewidth\": 0, \"ticks\": \"\"}, \"colorscale\": [[0.0, \"#0d0887\"], [0.1111111111111111, \"#46039f\"], [0.2222222222222222, \"#7201a8\"], [0.3333333333333333, \"#9c179e\"], [0.4444444444444444, \"#bd3786\"], [0.5555555555555556, \"#d8576b\"], [0.6666666666666666, \"#ed7953\"], [0.7777777777777778, \"#fb9f3a\"], [0.8888888888888888, \"#fdca26\"], [1.0, \"#f0f921\"]], \"type\": \"contour\"}], \"contourcarpet\": [{\"colorbar\": {\"outlinewidth\": 0, \"ticks\": \"\"}, \"type\": \"contourcarpet\"}], \"heatmap\": [{\"colorbar\": {\"outlinewidth\": 0, \"ticks\": \"\"}, \"colorscale\": [[0.0, \"#0d0887\"], [0.1111111111111111, \"#46039f\"], [0.2222222222222222, \"#7201a8\"], [0.3333333333333333, \"#9c179e\"], [0.4444444444444444, \"#bd3786\"], [0.5555555555555556, \"#d8576b\"], [0.6666666666666666, \"#ed7953\"], [0.7777777777777778, \"#fb9f3a\"], [0.8888888888888888, \"#fdca26\"], [1.0, \"#f0f921\"]], \"type\": \"heatmap\"}], \"heatmapgl\": [{\"colorbar\": {\"outlinewidth\": 0, \"ticks\": \"\"}, \"colorscale\": [[0.0, \"#0d0887\"], [0.1111111111111111, \"#46039f\"], [0.2222222222222222, \"#7201a8\"], [0.3333333333333333, \"#9c179e\"], [0.4444444444444444, \"#bd3786\"], [0.5555555555555556, \"#d8576b\"], [0.6666666666666666, \"#ed7953\"], [0.7777777777777778, \"#fb9f3a\"], [0.8888888888888888, \"#fdca26\"], [1.0, \"#f0f921\"]], \"type\": \"heatmapgl\"}], \"histogram\": [{\"marker\": {\"colorbar\": {\"outlinewidth\": 0, \"ticks\": \"\"}}, \"type\": \"histogram\"}], \"histogram2d\": [{\"colorbar\": {\"outlinewidth\": 0, \"ticks\": \"\"}, \"colorscale\": [[0.0, \"#0d0887\"], [0.1111111111111111, \"#46039f\"], [0.2222222222222222, \"#7201a8\"], [0.3333333333333333, \"#9c179e\"], [0.4444444444444444, \"#bd3786\"], [0.5555555555555556, \"#d8576b\"], [0.6666666666666666, \"#ed7953\"], [0.7777777777777778, \"#fb9f3a\"], [0.8888888888888888, \"#fdca26\"], [1.0, \"#f0f921\"]], \"type\": \"histogram2d\"}], \"histogram2dcontour\": [{\"colorbar\": {\"outlinewidth\": 0, \"ticks\": \"\"}, \"colorscale\": [[0.0, \"#0d0887\"], [0.1111111111111111, \"#46039f\"], [0.2222222222222222, \"#7201a8\"], [0.3333333333333333, \"#9c179e\"], [0.4444444444444444, \"#bd3786\"], [0.5555555555555556, \"#d8576b\"], [0.6666666666666666, \"#ed7953\"], [0.7777777777777778, \"#fb9f3a\"], [0.8888888888888888, \"#fdca26\"], [1.0, \"#f0f921\"]], \"type\": \"histogram2dcontour\"}], \"mesh3d\": [{\"colorbar\": {\"outlinewidth\": 0, \"ticks\": \"\"}, \"type\": \"mesh3d\"}], \"parcoords\": [{\"line\": {\"colorbar\": {\"outlinewidth\": 0, \"ticks\": \"\"}}, \"type\": \"parcoords\"}], \"pie\": [{\"automargin\": true, \"type\": \"pie\"}], \"scatter\": [{\"marker\": {\"colorbar\": {\"outlinewidth\": 0, \"ticks\": \"\"}}, \"type\": \"scatter\"}], \"scatter3d\": [{\"line\": {\"colorbar\": {\"outlinewidth\": 0, \"ticks\": \"\"}}, \"marker\": {\"colorbar\": {\"outlinewidth\": 0, \"ticks\": \"\"}}, \"type\": \"scatter3d\"}], \"scattercarpet\": [{\"marker\": {\"colorbar\": {\"outlinewidth\": 0, \"ticks\": \"\"}}, \"type\": \"scattercarpet\"}], \"scattergeo\": [{\"marker\": {\"colorbar\": {\"outlinewidth\": 0, \"ticks\": \"\"}}, \"type\": \"scattergeo\"}], \"scattergl\": [{\"marker\": {\"colorbar\": {\"outlinewidth\": 0, \"ticks\": \"\"}}, \"type\": \"scattergl\"}], \"scattermapbox\": [{\"marker\": {\"colorbar\": {\"outlinewidth\": 0, \"ticks\": \"\"}}, \"type\": \"scattermapbox\"}], \"scatterpolar\": [{\"marker\": {\"colorbar\": {\"outlinewidth\": 0, \"ticks\": \"\"}}, \"type\": \"scatterpolar\"}], \"scatterpolargl\": [{\"marker\": {\"colorbar\": {\"outlinewidth\": 0, \"ticks\": \"\"}}, \"type\": \"scatterpolargl\"}], \"scatterternary\": [{\"marker\": {\"colorbar\": {\"outlinewidth\": 0, \"ticks\": \"\"}}, \"type\": \"scatterternary\"}], \"surface\": [{\"colorbar\": {\"outlinewidth\": 0, \"ticks\": \"\"}, \"colorscale\": [[0.0, \"#0d0887\"], [0.1111111111111111, \"#46039f\"], [0.2222222222222222, \"#7201a8\"], [0.3333333333333333, \"#9c179e\"], [0.4444444444444444, \"#bd3786\"], [0.5555555555555556, \"#d8576b\"], [0.6666666666666666, \"#ed7953\"], [0.7777777777777778, \"#fb9f3a\"], [0.8888888888888888, \"#fdca26\"], [1.0, \"#f0f921\"]], \"type\": \"surface\"}], \"table\": [{\"cells\": {\"fill\": {\"color\": \"#EBF0F8\"}, \"line\": {\"color\": \"white\"}}, \"header\": {\"fill\": {\"color\": \"#C8D4E3\"}, \"line\": {\"color\": \"white\"}}, \"type\": \"table\"}]}, \"layout\": {\"annotationdefaults\": {\"arrowcolor\": \"#2a3f5f\", \"arrowhead\": 0, \"arrowwidth\": 1}, \"coloraxis\": {\"colorbar\": {\"outlinewidth\": 0, \"ticks\": \"\"}}, \"colorscale\": {\"diverging\": [[0, \"#8e0152\"], [0.1, \"#c51b7d\"], [0.2, \"#de77ae\"], [0.3, \"#f1b6da\"], [0.4, \"#fde0ef\"], [0.5, \"#f7f7f7\"], [0.6, \"#e6f5d0\"], [0.7, \"#b8e186\"], [0.8, \"#7fbc41\"], [0.9, \"#4d9221\"], [1, \"#276419\"]], \"sequential\": [[0.0, \"#0d0887\"], [0.1111111111111111, \"#46039f\"], [0.2222222222222222, \"#7201a8\"], [0.3333333333333333, \"#9c179e\"], [0.4444444444444444, \"#bd3786\"], [0.5555555555555556, \"#d8576b\"], [0.6666666666666666, \"#ed7953\"], [0.7777777777777778, \"#fb9f3a\"], [0.8888888888888888, \"#fdca26\"], [1.0, \"#f0f921\"]], \"sequentialminus\": [[0.0, \"#0d0887\"], [0.1111111111111111, \"#46039f\"], [0.2222222222222222, \"#7201a8\"], [0.3333333333333333, \"#9c179e\"], [0.4444444444444444, \"#bd3786\"], [0.5555555555555556, \"#d8576b\"], [0.6666666666666666, \"#ed7953\"], [0.7777777777777778, \"#fb9f3a\"], [0.8888888888888888, \"#fdca26\"], [1.0, \"#f0f921\"]]}, \"colorway\": [\"#636efa\", \"#EF553B\", \"#00cc96\", \"#ab63fa\", \"#FFA15A\", \"#19d3f3\", \"#FF6692\", \"#B6E880\", \"#FF97FF\", \"#FECB52\"], \"font\": {\"color\": \"#2a3f5f\"}, \"geo\": {\"bgcolor\": \"white\", \"lakecolor\": \"white\", \"landcolor\": \"#E5ECF6\", \"showlakes\": true, \"showland\": true, \"subunitcolor\": \"white\"}, \"hoverlabel\": {\"align\": \"left\"}, \"hovermode\": \"closest\", \"mapbox\": {\"style\": \"light\"}, \"paper_bgcolor\": \"white\", \"plot_bgcolor\": \"#E5ECF6\", \"polar\": {\"angularaxis\": {\"gridcolor\": \"white\", \"linecolor\": \"white\", \"ticks\": \"\"}, \"bgcolor\": \"#E5ECF6\", \"radialaxis\": {\"gridcolor\": \"white\", \"linecolor\": \"white\", \"ticks\": \"\"}}, \"scene\": {\"xaxis\": {\"backgroundcolor\": \"#E5ECF6\", \"gridcolor\": \"white\", \"gridwidth\": 2, \"linecolor\": \"white\", \"showbackground\": true, \"ticks\": \"\", \"zerolinecolor\": \"white\"}, \"yaxis\": {\"backgroundcolor\": \"#E5ECF6\", \"gridcolor\": \"white\", \"gridwidth\": 2, \"linecolor\": \"white\", \"showbackground\": true, \"ticks\": \"\", \"zerolinecolor\": \"white\"}, \"zaxis\": {\"backgroundcolor\": \"#E5ECF6\", \"gridcolor\": \"white\", \"gridwidth\": 2, \"linecolor\": \"white\", \"showbackground\": true, \"ticks\": \"\", \"zerolinecolor\": \"white\"}}, \"shapedefaults\": {\"line\": {\"color\": \"#2a3f5f\"}}, \"ternary\": {\"aaxis\": {\"gridcolor\": \"white\", \"linecolor\": \"white\", \"ticks\": \"\"}, \"baxis\": {\"gridcolor\": \"white\", \"linecolor\": \"white\", \"ticks\": \"\"}, \"bgcolor\": \"#E5ECF6\", \"caxis\": {\"gridcolor\": \"white\", \"linecolor\": \"white\", \"ticks\": \"\"}}, \"title\": {\"x\": 0.05}, \"xaxis\": {\"automargin\": true, \"gridcolor\": \"white\", \"linecolor\": \"white\", \"ticks\": \"\", \"title\": {\"standoff\": 15}, \"zerolinecolor\": \"white\", \"zerolinewidth\": 2}, \"yaxis\": {\"automargin\": true, \"gridcolor\": \"white\", \"linecolor\": \"white\", \"ticks\": \"\", \"title\": {\"standoff\": 15}, \"zerolinecolor\": \"white\", \"zerolinewidth\": 2}}}, \"xaxis\": {\"anchor\": \"y\", \"domain\": [0.0, 1.0], \"title\": {\"text\": \"PCA1\"}}, \"yaxis\": {\"anchor\": \"x\", \"domain\": [0.0, 1.0], \"title\": {\"text\": \"PCA2\"}}},\n",
              "                        {\"responsive\": true}\n",
              "                    ).then(function(){\n",
              "                            \n",
              "var gd = document.getElementById('20a53ed2-a265-4347-b61a-1cc45fd81b99');\n",
              "var x = new MutationObserver(function (mutations, observer) {{\n",
              "        var display = window.getComputedStyle(gd).display;\n",
              "        if (!display || display === 'none') {{\n",
              "            console.log([gd, 'removed!']);\n",
              "            Plotly.purge(gd);\n",
              "            observer.disconnect();\n",
              "        }}\n",
              "}});\n",
              "\n",
              "// Listen for the removal of the full notebook cells\n",
              "var notebookContainer = gd.closest('#notebook-container');\n",
              "if (notebookContainer) {{\n",
              "    x.observe(notebookContainer, {childList: true});\n",
              "}}\n",
              "\n",
              "// Listen for the clearing of the current output cell\n",
              "var outputEl = gd.closest('.output');\n",
              "if (outputEl) {{\n",
              "    x.observe(outputEl, {childList: true});\n",
              "}}\n",
              "\n",
              "                        })\n",
              "                };\n",
              "                \n",
              "            </script>\n",
              "        </div>\n",
              "</body>\n",
              "</html>"
            ]
          },
          "metadata": {
            "tags": []
          }
        }
      ]
    },
    {
      "cell_type": "markdown",
      "metadata": {
        "id": "RRAbxO8MV4UO"
      },
      "source": [
        "We obtain a plot of the coefficients of the data with respect to the first two singular vectors. As we will find out later, this 2D view encompasses 95% of the variation of the original data points. We can see a better way of separating Iris Setosa from Iris Versicolor and Iris Virginica.\n",
        "\n",
        "Let's do the same thing but plot our data using the last two principal components."
      ]
    },
    {
      "cell_type": "code",
      "metadata": {
        "id": "zA4DxgB2Vy0G",
        "colab": {
          "base_uri": "https://localhost:8080/",
          "height": 542
        },
        "outputId": "223673b7-6969-42e1-b4f6-ddadd7e9c449"
      },
      "source": [
        "import plotly.express as px\n",
        "df = principalDFcomp\n",
        "fig = px.scatter(df, x=principalDFcomp.columns[2], y=principalDFcomp.columns[3], color=\"target\")\n",
        "fig.show()"
      ],
      "execution_count": null,
      "outputs": [
        {
          "output_type": "display_data",
          "data": {
            "text/html": [
              "<html>\n",
              "<head><meta charset=\"utf-8\" /></head>\n",
              "<body>\n",
              "    <div>\n",
              "            <script src=\"https://cdnjs.cloudflare.com/ajax/libs/mathjax/2.7.5/MathJax.js?config=TeX-AMS-MML_SVG\"></script><script type=\"text/javascript\">if (window.MathJax) {MathJax.Hub.Config({SVG: {font: \"STIX-Web\"}});}</script>\n",
              "                <script type=\"text/javascript\">window.PlotlyConfig = {MathJaxConfig: 'local'};</script>\n",
              "        <script src=\"https://cdn.plot.ly/plotly-latest.min.js\"></script>    \n",
              "            <div id=\"3ff27879-f8f1-4518-8c0a-195ec971bf01\" class=\"plotly-graph-div\" style=\"height:525px; width:100%;\"></div>\n",
              "            <script type=\"text/javascript\">\n",
              "                \n",
              "                    window.PLOTLYENV=window.PLOTLYENV || {};\n",
              "                    \n",
              "                if (document.getElementById(\"3ff27879-f8f1-4518-8c0a-195ec971bf01\")) {\n",
              "                    Plotly.newPlot(\n",
              "                        '3ff27879-f8f1-4518-8c0a-195ec971bf01',\n",
              "                        [{\"hoverlabel\": {\"namelength\": 0}, \"hovertemplate\": \"target=setosa<br>PCA3=%{x}<br>PCA4=%{y}\", \"legendgroup\": \"target=setosa\", \"marker\": {\"color\": \"#636efa\", \"symbol\": \"circle\"}, \"mode\": \"markers\", \"name\": \"target=setosa\", \"showlegend\": true, \"type\": \"scatter\", \"x\": [-0.12770602230015626, -0.23460885398456852, 0.04420148483874386, 0.09129010632068209, 0.015738195676258452, 0.026968294439781347, 0.3354704011431136, -0.08869549794772652, 0.14507686363699987, -0.2537655673000064, -0.2686811022161348, 0.09375924438111144, -0.23091123720660237, 0.18079608440317915, -0.47290099787307704, 0.03052660926551014, -0.005344094078264435, -0.04421531647845396, -0.37434327455765465, 0.13263046678130183, -0.42129259408735653, 0.15986527722625235, 0.3321790975568656, 0.03448859579998091, 0.11799353576964587, -0.3056409823252077, 0.08636401082518204, -0.2068162477703046, -0.27115024027656437, 0.06843577622727828, -0.07500844174913295, -0.27046737670298243, 0.04722841866848572, -0.0826680450615684, -0.17027486147830803, -0.22544158008975707, -0.4845374098283169, 0.01943581245422296, 0.19325466188423668, -0.1758838205473894, 0.03489490899169744, -0.2042342225309646, 0.30576645263773305, 0.30960131784532735, 0.2484335611210462, -0.06392982556320546, 0.05721785808911468, 0.1394679045679188, -0.18149277961647114, -0.15302949045398623], \"xaxis\": \"x\", \"y\": [-0.024168203855482292, -0.10300677477162432, -0.028377053438398914, 0.06595555957632948, 0.035922813292926084, -0.00660818021916602, 0.03677555719292132, 0.024612096195665907, 0.026859220787865824, 0.03989928773347219, -0.01673136718499746, 0.13348341339521488, -0.002425038142551429, 0.019215533556608703, -0.19473176945641282, -0.050533737348170724, -0.18881743207350188, -0.09309043836656865, -0.06109596709244519, 0.037756419688281584, -0.010921286349095888, -0.05959732985323061, -0.01964843008948035, -0.15114099855884142, 0.270140352285967, -0.043561650962438324, -0.0676800598629306, -0.010275393009876788, -0.08425922100388297, 0.10827988545235312, 0.04818886830394869, -0.23987038129844443, 0.2292359316837457, 0.0482143928855466, -0.02902294677761793, -0.16890787275593033, -0.1963585252909919, 0.13650454992199856, 0.009738422854704082, -0.007047405922316354, -0.10698324921217021, -0.2898639189873231, 0.06660145291554831, -0.17709301385468904, 0.15104343703152756, -0.14026950716473188, 0.15223096716295603, 0.04883476164316758, 0.014928134932985159, -0.04937173179834028], \"yaxis\": \"y\"}, {\"hoverlabel\": {\"namelength\": 0}, \"hovertemplate\": \"target=versicolor<br>PCA3=%{x}<br>PCA4=%{y}\", \"legendgroup\": \"target=versicolor\", \"marker\": {\"color\": \"#EF553B\", \"symbol\": \"circle\"}, \"mode\": \"markers\", \"name\": \"target=versicolor\", \"showlegend\": true, \"type\": \"scatter\", \"x\": [-0.6845861626897367, -0.0941217155290823, -0.5540068353861004, -0.023101767813801573, -0.39825552250622653, 0.12419154951817007, 0.14896940252805083, 0.24926526578924937, -0.5961693613725382, 0.5388993901843675, -0.04679044405838314, 0.20507381532720267, -0.765771393653961, -0.06865894542301247, 0.19493289332897867, -0.5035113816560299, 0.4908730745147273, -0.3020371744413823, -0.48230402409723744, -0.1728378084328765, 0.6165263063228635, -0.26495222652803946, -0.36841227204861, -0.2918962524431577, -0.44602700756174685, -0.47257895443311443, -0.7271550018678914, -0.2608265767906138, 0.08586388873932602, -0.3195733299955363, -0.14998347833947334, -0.24155228129068335, -0.15121195705700816, 0.10531138658459722, 0.6652497197140529, 0.45063407144476536, -0.39578638444579695, -0.6882959600930608, 0.2915792743532842, 0.08941002293969483, 0.09448760101279033, -0.02048114717577583, -0.19938975530424485, 0.10582104781283835, 0.13088968535255133, 0.12897834306143346, 0.15621315350638387, -0.2716503623624205, 0.19040093039983605, 0.09187916100012418], \"xaxis\": \"x\", \"y\": [-0.03483377552322038, -0.004903623253584426, -0.00942339701958228, -0.06576883526128113, -0.1047368725296713, 0.2408313004727846, 0.077369785310898, 0.04052020526521784, 0.029879609404949, 0.02846118373968019, -0.013760731047284633, -0.040126081615268615, -0.045731157348344376, 0.16480719844735514, -0.10904849905106703, -0.10494372309044728, 0.19150936362943083, 0.20529773500331483, -0.22589976932184036, 0.05172684874017721, 0.08328412269380892, -0.11356827281706514, 0.009944525505779902, 0.2742201524391135, -0.043458325249838455, -0.10171573600288683, -0.03968851844536003, -0.06682806387263608, 0.03643984012707901, -0.06478815569062905, 0.0094025228641533, 0.03277244441165974, -0.023651359946033644, 0.18396845333664863, 0.2548283678653955, 0.10967518076809908, -0.037209018710785594, -0.13683560035080403, 0.14714458079727505, -0.0089058052004369, 0.27065719619541184, 0.14768640051419304, -0.006530562012871667, -0.019570811883186514, 0.10740234866959317, 0.22995962615396706, 0.13260587661245465, 0.01986067898612649, -0.19994645734216704, 0.058622048618448226], \"yaxis\": \"y\"}, {\"hoverlabel\": {\"namelength\": 0}, \"hovertemplate\": \"target=virginica<br>PCA3=%{x}<br>PCA4=%{y}\", \"legendgroup\": \"target=virginica\", \"marker\": {\"color\": \"#00cc96\", \"symbol\": \"circle\"}, \"mode\": \"markers\", \"name\": \"target=virginica\", \"showlegend\": true, \"type\": \"scatter\", \"x\": [1.0054010176069863, 0.530160149249019, -0.2029141697368686, 0.1636301068300584, 0.39562837455329725, -0.5823091028286042, 0.9868932674720247, -0.6517064392599928, -0.3939905708165642, 0.39755189746977365, 0.2846120737568162, 0.023186407910062594, 0.02633840954407482, 0.5802492897873727, 1.0038695737342596, 0.6384287080805974, 0.0374312598779687, -0.12788145946307258, -0.7033053039033292, -0.26753689325035357, 0.2347994836003275, 0.8281272013877691, -0.8574218248739515, -0.005428363830018003, 0.29845061253300503, -0.4199847219186199, 0.12993775701688126, 0.33771596749955285, 0.2706580063187421, -0.7156341185745362, -0.7278161456737292, -0.49347380769433064, 0.3541487121404407, -0.18348839165934266, -0.16472375738765377, -0.5429064994324284, 0.9458538186439901, 0.18087547785437982, 0.41682619296970425, -0.01267211480835188, 0.4283328421150927, 0.1300750054465104, 0.530160149249019, 0.3381440004590139, 0.632413435819799, 0.25627385239859996, -0.026371351632304467, 0.18017838013283125, 0.9333952411629313, 0.5282488069579016], \"xaxis\": \"x\", \"y\": [0.04924974323767801, 0.040520754039342945, -0.05918419371667032, 0.23577007283928533, 0.01629827151654948, 0.10138448643850562, 0.1331238342810167, 0.23804124240454957, 0.08651063017283535, -0.10483891776931366, -0.10786042014551389, -0.058331632741383636, -0.14641493921705934, -0.09915732137819315, -0.2756589034856864, -0.19186299563363424, 0.15533027067015867, 0.27380718301639356, -0.04518860593259315, 0.06518079973204471, -0.16795125436920993, -0.027755587132528205, 0.12733650173435326, -0.13995914796664674, 0.06164373391935731, 0.21833835072304597, -0.12542044378182685, 0.008654401360584294, -0.031087647842390233, 0.20821516375721416, 0.01792336481788629, 0.21167570891185727, -0.10000988235348056, 0.18634369652421384, 0.48948347002834525, -0.29588104951957767, -0.0356057590751457, 0.21542128781856307, -0.005238409485017676, -0.19519523926820365, -0.24753831263834172, -0.46969664718113646, 0.040520754039342945, -0.04518712632405923, -0.21404520412500372, -0.38925684501200936, -0.22019209957499722, -0.11917113724277384, -0.026128648373240866, 0.1630780315237168], \"yaxis\": \"y\"}],\n",
              "                        {\"legend\": {\"tracegroupgap\": 0}, \"margin\": {\"t\": 60}, \"template\": {\"data\": {\"bar\": [{\"error_x\": {\"color\": \"#2a3f5f\"}, \"error_y\": {\"color\": \"#2a3f5f\"}, \"marker\": {\"line\": {\"color\": \"#E5ECF6\", \"width\": 0.5}}, \"type\": \"bar\"}], \"barpolar\": [{\"marker\": {\"line\": {\"color\": \"#E5ECF6\", \"width\": 0.5}}, \"type\": \"barpolar\"}], \"carpet\": [{\"aaxis\": {\"endlinecolor\": \"#2a3f5f\", \"gridcolor\": \"white\", \"linecolor\": \"white\", \"minorgridcolor\": \"white\", \"startlinecolor\": \"#2a3f5f\"}, \"baxis\": {\"endlinecolor\": \"#2a3f5f\", \"gridcolor\": \"white\", \"linecolor\": \"white\", \"minorgridcolor\": \"white\", \"startlinecolor\": \"#2a3f5f\"}, \"type\": \"carpet\"}], \"choropleth\": [{\"colorbar\": {\"outlinewidth\": 0, \"ticks\": \"\"}, \"type\": \"choropleth\"}], \"contour\": [{\"colorbar\": {\"outlinewidth\": 0, \"ticks\": \"\"}, \"colorscale\": [[0.0, \"#0d0887\"], [0.1111111111111111, \"#46039f\"], [0.2222222222222222, \"#7201a8\"], [0.3333333333333333, \"#9c179e\"], [0.4444444444444444, \"#bd3786\"], [0.5555555555555556, \"#d8576b\"], [0.6666666666666666, \"#ed7953\"], [0.7777777777777778, \"#fb9f3a\"], [0.8888888888888888, \"#fdca26\"], [1.0, \"#f0f921\"]], \"type\": \"contour\"}], \"contourcarpet\": [{\"colorbar\": {\"outlinewidth\": 0, \"ticks\": \"\"}, \"type\": \"contourcarpet\"}], \"heatmap\": [{\"colorbar\": {\"outlinewidth\": 0, \"ticks\": \"\"}, \"colorscale\": [[0.0, \"#0d0887\"], [0.1111111111111111, \"#46039f\"], [0.2222222222222222, \"#7201a8\"], [0.3333333333333333, \"#9c179e\"], [0.4444444444444444, \"#bd3786\"], [0.5555555555555556, \"#d8576b\"], [0.6666666666666666, \"#ed7953\"], [0.7777777777777778, \"#fb9f3a\"], [0.8888888888888888, \"#fdca26\"], [1.0, \"#f0f921\"]], \"type\": \"heatmap\"}], \"heatmapgl\": [{\"colorbar\": {\"outlinewidth\": 0, \"ticks\": \"\"}, \"colorscale\": [[0.0, \"#0d0887\"], [0.1111111111111111, \"#46039f\"], [0.2222222222222222, \"#7201a8\"], [0.3333333333333333, \"#9c179e\"], [0.4444444444444444, \"#bd3786\"], [0.5555555555555556, \"#d8576b\"], [0.6666666666666666, \"#ed7953\"], [0.7777777777777778, \"#fb9f3a\"], [0.8888888888888888, \"#fdca26\"], [1.0, \"#f0f921\"]], \"type\": \"heatmapgl\"}], \"histogram\": [{\"marker\": {\"colorbar\": {\"outlinewidth\": 0, \"ticks\": \"\"}}, \"type\": \"histogram\"}], \"histogram2d\": [{\"colorbar\": {\"outlinewidth\": 0, \"ticks\": \"\"}, \"colorscale\": [[0.0, \"#0d0887\"], [0.1111111111111111, \"#46039f\"], [0.2222222222222222, \"#7201a8\"], [0.3333333333333333, \"#9c179e\"], [0.4444444444444444, \"#bd3786\"], [0.5555555555555556, \"#d8576b\"], [0.6666666666666666, \"#ed7953\"], [0.7777777777777778, \"#fb9f3a\"], [0.8888888888888888, \"#fdca26\"], [1.0, \"#f0f921\"]], \"type\": \"histogram2d\"}], \"histogram2dcontour\": [{\"colorbar\": {\"outlinewidth\": 0, \"ticks\": \"\"}, \"colorscale\": [[0.0, \"#0d0887\"], [0.1111111111111111, \"#46039f\"], [0.2222222222222222, \"#7201a8\"], [0.3333333333333333, \"#9c179e\"], [0.4444444444444444, \"#bd3786\"], [0.5555555555555556, \"#d8576b\"], [0.6666666666666666, \"#ed7953\"], [0.7777777777777778, \"#fb9f3a\"], [0.8888888888888888, \"#fdca26\"], [1.0, \"#f0f921\"]], \"type\": \"histogram2dcontour\"}], \"mesh3d\": [{\"colorbar\": {\"outlinewidth\": 0, \"ticks\": \"\"}, \"type\": \"mesh3d\"}], \"parcoords\": [{\"line\": {\"colorbar\": {\"outlinewidth\": 0, \"ticks\": \"\"}}, \"type\": \"parcoords\"}], \"pie\": [{\"automargin\": true, \"type\": \"pie\"}], \"scatter\": [{\"marker\": {\"colorbar\": {\"outlinewidth\": 0, \"ticks\": \"\"}}, \"type\": \"scatter\"}], \"scatter3d\": [{\"line\": {\"colorbar\": {\"outlinewidth\": 0, \"ticks\": \"\"}}, \"marker\": {\"colorbar\": {\"outlinewidth\": 0, \"ticks\": \"\"}}, \"type\": \"scatter3d\"}], \"scattercarpet\": [{\"marker\": {\"colorbar\": {\"outlinewidth\": 0, \"ticks\": \"\"}}, \"type\": \"scattercarpet\"}], \"scattergeo\": [{\"marker\": {\"colorbar\": {\"outlinewidth\": 0, \"ticks\": \"\"}}, \"type\": \"scattergeo\"}], \"scattergl\": [{\"marker\": {\"colorbar\": {\"outlinewidth\": 0, \"ticks\": \"\"}}, \"type\": \"scattergl\"}], \"scattermapbox\": [{\"marker\": {\"colorbar\": {\"outlinewidth\": 0, \"ticks\": \"\"}}, \"type\": \"scattermapbox\"}], \"scatterpolar\": [{\"marker\": {\"colorbar\": {\"outlinewidth\": 0, \"ticks\": \"\"}}, \"type\": \"scatterpolar\"}], \"scatterpolargl\": [{\"marker\": {\"colorbar\": {\"outlinewidth\": 0, \"ticks\": \"\"}}, \"type\": \"scatterpolargl\"}], \"scatterternary\": [{\"marker\": {\"colorbar\": {\"outlinewidth\": 0, \"ticks\": \"\"}}, \"type\": \"scatterternary\"}], \"surface\": [{\"colorbar\": {\"outlinewidth\": 0, \"ticks\": \"\"}, \"colorscale\": [[0.0, \"#0d0887\"], [0.1111111111111111, \"#46039f\"], [0.2222222222222222, \"#7201a8\"], [0.3333333333333333, \"#9c179e\"], [0.4444444444444444, \"#bd3786\"], [0.5555555555555556, \"#d8576b\"], [0.6666666666666666, \"#ed7953\"], [0.7777777777777778, \"#fb9f3a\"], [0.8888888888888888, \"#fdca26\"], [1.0, \"#f0f921\"]], \"type\": \"surface\"}], \"table\": [{\"cells\": {\"fill\": {\"color\": \"#EBF0F8\"}, \"line\": {\"color\": \"white\"}}, \"header\": {\"fill\": {\"color\": \"#C8D4E3\"}, \"line\": {\"color\": \"white\"}}, \"type\": \"table\"}]}, \"layout\": {\"annotationdefaults\": {\"arrowcolor\": \"#2a3f5f\", \"arrowhead\": 0, \"arrowwidth\": 1}, \"coloraxis\": {\"colorbar\": {\"outlinewidth\": 0, \"ticks\": \"\"}}, \"colorscale\": {\"diverging\": [[0, \"#8e0152\"], [0.1, \"#c51b7d\"], [0.2, \"#de77ae\"], [0.3, \"#f1b6da\"], [0.4, \"#fde0ef\"], [0.5, \"#f7f7f7\"], [0.6, \"#e6f5d0\"], [0.7, \"#b8e186\"], [0.8, \"#7fbc41\"], [0.9, \"#4d9221\"], [1, \"#276419\"]], \"sequential\": [[0.0, \"#0d0887\"], [0.1111111111111111, \"#46039f\"], [0.2222222222222222, \"#7201a8\"], [0.3333333333333333, \"#9c179e\"], [0.4444444444444444, \"#bd3786\"], [0.5555555555555556, \"#d8576b\"], [0.6666666666666666, \"#ed7953\"], [0.7777777777777778, \"#fb9f3a\"], [0.8888888888888888, \"#fdca26\"], [1.0, \"#f0f921\"]], \"sequentialminus\": [[0.0, \"#0d0887\"], [0.1111111111111111, \"#46039f\"], [0.2222222222222222, \"#7201a8\"], [0.3333333333333333, \"#9c179e\"], [0.4444444444444444, \"#bd3786\"], [0.5555555555555556, \"#d8576b\"], [0.6666666666666666, \"#ed7953\"], [0.7777777777777778, \"#fb9f3a\"], [0.8888888888888888, \"#fdca26\"], [1.0, \"#f0f921\"]]}, \"colorway\": [\"#636efa\", \"#EF553B\", \"#00cc96\", \"#ab63fa\", \"#FFA15A\", \"#19d3f3\", \"#FF6692\", \"#B6E880\", \"#FF97FF\", \"#FECB52\"], \"font\": {\"color\": \"#2a3f5f\"}, \"geo\": {\"bgcolor\": \"white\", \"lakecolor\": \"white\", \"landcolor\": \"#E5ECF6\", \"showlakes\": true, \"showland\": true, \"subunitcolor\": \"white\"}, \"hoverlabel\": {\"align\": \"left\"}, \"hovermode\": \"closest\", \"mapbox\": {\"style\": \"light\"}, \"paper_bgcolor\": \"white\", \"plot_bgcolor\": \"#E5ECF6\", \"polar\": {\"angularaxis\": {\"gridcolor\": \"white\", \"linecolor\": \"white\", \"ticks\": \"\"}, \"bgcolor\": \"#E5ECF6\", \"radialaxis\": {\"gridcolor\": \"white\", \"linecolor\": \"white\", \"ticks\": \"\"}}, \"scene\": {\"xaxis\": {\"backgroundcolor\": \"#E5ECF6\", \"gridcolor\": \"white\", \"gridwidth\": 2, \"linecolor\": \"white\", \"showbackground\": true, \"ticks\": \"\", \"zerolinecolor\": \"white\"}, \"yaxis\": {\"backgroundcolor\": \"#E5ECF6\", \"gridcolor\": \"white\", \"gridwidth\": 2, \"linecolor\": \"white\", \"showbackground\": true, \"ticks\": \"\", \"zerolinecolor\": \"white\"}, \"zaxis\": {\"backgroundcolor\": \"#E5ECF6\", \"gridcolor\": \"white\", \"gridwidth\": 2, \"linecolor\": \"white\", \"showbackground\": true, \"ticks\": \"\", \"zerolinecolor\": \"white\"}}, \"shapedefaults\": {\"line\": {\"color\": \"#2a3f5f\"}}, \"ternary\": {\"aaxis\": {\"gridcolor\": \"white\", \"linecolor\": \"white\", \"ticks\": \"\"}, \"baxis\": {\"gridcolor\": \"white\", \"linecolor\": \"white\", \"ticks\": \"\"}, \"bgcolor\": \"#E5ECF6\", \"caxis\": {\"gridcolor\": \"white\", \"linecolor\": \"white\", \"ticks\": \"\"}}, \"title\": {\"x\": 0.05}, \"xaxis\": {\"automargin\": true, \"gridcolor\": \"white\", \"linecolor\": \"white\", \"ticks\": \"\", \"title\": {\"standoff\": 15}, \"zerolinecolor\": \"white\", \"zerolinewidth\": 2}, \"yaxis\": {\"automargin\": true, \"gridcolor\": \"white\", \"linecolor\": \"white\", \"ticks\": \"\", \"title\": {\"standoff\": 15}, \"zerolinecolor\": \"white\", \"zerolinewidth\": 2}}}, \"xaxis\": {\"anchor\": \"y\", \"domain\": [0.0, 1.0], \"title\": {\"text\": \"PCA3\"}}, \"yaxis\": {\"anchor\": \"x\", \"domain\": [0.0, 1.0], \"title\": {\"text\": \"PCA4\"}}},\n",
              "                        {\"responsive\": true}\n",
              "                    ).then(function(){\n",
              "                            \n",
              "var gd = document.getElementById('3ff27879-f8f1-4518-8c0a-195ec971bf01');\n",
              "var x = new MutationObserver(function (mutations, observer) {{\n",
              "        var display = window.getComputedStyle(gd).display;\n",
              "        if (!display || display === 'none') {{\n",
              "            console.log([gd, 'removed!']);\n",
              "            Plotly.purge(gd);\n",
              "            observer.disconnect();\n",
              "        }}\n",
              "}});\n",
              "\n",
              "// Listen for the removal of the full notebook cells\n",
              "var notebookContainer = gd.closest('#notebook-container');\n",
              "if (notebookContainer) {{\n",
              "    x.observe(notebookContainer, {childList: true});\n",
              "}}\n",
              "\n",
              "// Listen for the clearing of the current output cell\n",
              "var outputEl = gd.closest('.output');\n",
              "if (outputEl) {{\n",
              "    x.observe(outputEl, {childList: true});\n",
              "}}\n",
              "\n",
              "                        })\n",
              "                };\n",
              "                \n",
              "            </script>\n",
              "        </div>\n",
              "</body>\n",
              "</html>"
            ]
          },
          "metadata": {
            "tags": []
          }
        }
      ]
    },
    {
      "cell_type": "markdown",
      "metadata": {
        "id": "m2Sa21i2Lina"
      },
      "source": [
        "As we can see, this space is a bad representation for visualizing our data since we are not able to distinguish between the different IRIS classes clearly.\n",
        "\n",
        "Let's take a look at this data in a three dimensional principal component space.\n",
        "\n",
        "## Plotting the data with the first three Principal Components"
      ]
    },
    {
      "cell_type": "code",
      "metadata": {
        "id": "pGwBsGwA_umo",
        "colab": {
          "base_uri": "https://localhost:8080/",
          "height": 542
        },
        "outputId": "368a149b-117e-4b34-ede3-54ee663e4491"
      },
      "source": [
        "import plotly.express as px\n",
        "df = principalDFcomp\n",
        "fig = px.scatter_3d(df, x=principalDFcomp.columns[0], y=principalDFcomp.columns[1], z=principalDFcomp.columns[2], color=\"target\",\n",
        "                  symbol=\"target\", \n",
        "                  color_discrete_map = {principalDFcomp.columns[0]: \"blue\", principalDFcomp.columns[1]: \"green\", principalDFcomp.columns[2]:\"red\"})\n",
        "\n",
        "fig.update_traces(marker=dict(size=5,\n",
        "                              line=dict(width=8,\n",
        "                                        color='DarkSlateGrey')),\n",
        "                  selector=dict(mode='markers'))\n",
        "fig.show()\n",
        "\n"
      ],
      "execution_count": null,
      "outputs": [
        {
          "output_type": "display_data",
          "data": {
            "text/html": [
              "<html>\n",
              "<head><meta charset=\"utf-8\" /></head>\n",
              "<body>\n",
              "    <div>\n",
              "            <script src=\"https://cdnjs.cloudflare.com/ajax/libs/mathjax/2.7.5/MathJax.js?config=TeX-AMS-MML_SVG\"></script><script type=\"text/javascript\">if (window.MathJax) {MathJax.Hub.Config({SVG: {font: \"STIX-Web\"}});}</script>\n",
              "                <script type=\"text/javascript\">window.PlotlyConfig = {MathJaxConfig: 'local'};</script>\n",
              "        <script src=\"https://cdn.plot.ly/plotly-latest.min.js\"></script>    \n",
              "            <div id=\"fdeb9cf3-bae3-4143-bac5-3c138e3cc56b\" class=\"plotly-graph-div\" style=\"height:525px; width:100%;\"></div>\n",
              "            <script type=\"text/javascript\">\n",
              "                \n",
              "                    window.PLOTLYENV=window.PLOTLYENV || {};\n",
              "                    \n",
              "                if (document.getElementById(\"fdeb9cf3-bae3-4143-bac5-3c138e3cc56b\")) {\n",
              "                    Plotly.newPlot(\n",
              "                        'fdeb9cf3-bae3-4143-bac5-3c138e3cc56b',\n",
              "                        [{\"hoverlabel\": {\"namelength\": 0}, \"hovertemplate\": \"target=setosa<br>PCA1=%{x}<br>PCA2=%{y}<br>PCA3=%{z}\", \"legendgroup\": \"target=setosa\", \"marker\": {\"color\": \"#ab63fa\", \"line\": {\"color\": \"DarkSlateGrey\", \"width\": 8}, \"size\": 5, \"symbol\": \"circle\"}, \"mode\": \"markers\", \"name\": \"target=setosa\", \"scene\": \"scene\", \"showlegend\": true, \"type\": \"scatter3d\", \"x\": [-2.2647028088075962, -2.0809611519657687, -2.3642290538903015, -2.2993842170427086, -2.389842166313845, -2.075630948176513, -2.444028835134153, -2.232847158872015, -2.3346404779076217, -2.1843281749339423, -2.166310100701323, -2.326130866442699, -2.2184508988224096, -2.6331006957652283, -2.1987406032666907, -2.262214531601022, -2.207587695824593, -2.190349509192299, -1.8985719958028429, -2.3433690530749938, -1.914322996082568, -2.207012843194799, -2.7743447029273325, -1.8186695286958499, -2.2271633057066387, -1.9518463309003762, -2.0511513727294157, -2.168577174654217, -2.139563451301332, -2.2652614931542416, -2.1401221356479843, -1.8315947706760287, -2.614947935858935, -2.4461773916965157, -2.1099748753186525, -2.207808899078266, -2.0451462067542017, -2.5273319131704866, -2.4296325750845464, -2.169710711630664, -2.2864751433456707, -1.8581224563735714, -2.5536383956143562, -1.9644476837637415, -2.1370590058116234, -2.06974429959183, -2.3847331657782633, -2.3943763142196333, -2.229446547942675, -2.203833435519131], \"y\": [0.48002659652098906, -0.6741335566053536, -0.34190802388467684, -0.5973945076746764, 0.6468353829020268, 1.4891775233211666, 0.04764419763001348, 0.22314807268959136, -1.1153276754616672, -0.4690135614023761, 1.0436906530538599, 0.13307833523923104, -0.7286761653165713, -0.9615067291701639, 1.8600571132939314, 2.686284485110592, 1.4836093631555725, 0.48883831648632753, 1.4050187944665495, 1.1278493819084758, 0.4088557077559062, 0.9241214267468982, 0.45834366775291485, 0.08555852628736584, 0.13725445536342665, -0.625618587776677, 0.24216355266166667, 0.5271495253082673, 0.3132178101399517, -0.3377319037604812, -0.5045406901415189, 0.4236950676037859, 1.7935758561044284, 2.150727877392924, -0.4602018414370377, -0.20610739768843714, 0.6615581114631085, 0.5922927741908091, -0.9041800403761489, 0.2688789614354706, 0.4417153876990498, -2.337415157553348, -0.47910069012231493, 0.47232666771926046, 1.1422292620394083, -0.7110527253858945, 1.1204297019845357, -0.38624687258915796, 0.9979597643079803, 0.009216357521275934], \"z\": [-0.12770602230015626, -0.23460885398456852, 0.04420148483874386, 0.09129010632068209, 0.015738195676258452, 0.026968294439781347, 0.3354704011431136, -0.08869549794772652, 0.14507686363699987, -0.2537655673000064, -0.2686811022161348, 0.09375924438111144, -0.23091123720660237, 0.18079608440317915, -0.47290099787307704, 0.03052660926551014, -0.005344094078264435, -0.04421531647845396, -0.37434327455765465, 0.13263046678130183, -0.42129259408735653, 0.15986527722625235, 0.3321790975568656, 0.03448859579998091, 0.11799353576964587, -0.3056409823252077, 0.08636401082518204, -0.2068162477703046, -0.27115024027656437, 0.06843577622727828, -0.07500844174913295, -0.27046737670298243, 0.04722841866848572, -0.0826680450615684, -0.17027486147830803, -0.22544158008975707, -0.4845374098283169, 0.01943581245422296, 0.19325466188423668, -0.1758838205473894, 0.03489490899169744, -0.2042342225309646, 0.30576645263773305, 0.30960131784532735, 0.2484335611210462, -0.06392982556320546, 0.05721785808911468, 0.1394679045679188, -0.18149277961647114, -0.15302949045398623]}, {\"hoverlabel\": {\"namelength\": 0}, \"hovertemplate\": \"target=versicolor<br>PCA1=%{x}<br>PCA2=%{y}<br>PCA3=%{z}\", \"legendgroup\": \"target=versicolor\", \"marker\": {\"color\": \"#FFA15A\", \"line\": {\"color\": \"DarkSlateGrey\", \"width\": 8}, \"size\": 5, \"symbol\": \"diamond\"}, \"mode\": \"markers\", \"name\": \"target=versicolor\", \"scene\": \"scene\", \"showlegend\": true, \"type\": \"scatter3d\", \"x\": [1.1017811830529483, 0.7313374253960877, 1.2409793195158314, 0.4074830588173857, 1.0754747006090783, 0.38868733653566523, 0.746529741329161, -0.4873227421256394, 0.9279016383549457, 0.011426188736980284, -0.11019628000062837, 0.44069344898307855, 0.5621083064431794, 0.7195618886754969, -0.03335470317877217, 0.875407190857738, 0.35025166799508295, 0.15881004754797165, 1.2250936335624325, 0.16491789938632773, 0.7376826487712584, 0.47628719094097166, 1.23417809765715, 0.6328581997098223, 0.7026611831361824, 0.8742736538812906, 1.2565091165418838, 1.3584051214406323, 0.6648003672253952, -0.04025861090059527, 0.1307951754978611, 0.023452688970551326, 0.2415382729545112, 1.0610946088426145, 0.2239787735123798, 0.4291391155161607, 1.0487280512090877, 1.0445313843962796, 0.069588321116423, 0.28347723828757576, 0.27907777605546125, 0.6245697914985716, 0.3365303701314362, -0.362183384619383, 0.2885862388231576, 0.09136065565450532, 0.22771686553470014, 0.5763882886534789, -0.44766701902861145, 0.25673058888758493], \"y\": [0.8629724182621596, 0.5946147256694247, 0.6162976544374991, -1.7544039893234107, -0.20842104605096515, -0.5932836359900755, 0.7730193120985965, -1.8524290868575748, 0.03222607789115433, -1.0340182751294411, -2.654072818536565, -0.06329518843800157, -1.7647243806169448, -0.18622460583150574, -0.4390032099816249, 0.5090639567734092, -0.19631173455144446, -0.7920957424327215, -1.6222438030915014, -1.3026092302957728, 0.39657156196023857, -0.4173202812135508, -0.9333257287992781, -0.4163877208890994, -0.06341181972479977, 0.2507933929006126, -0.0772560196958684, 0.3313116817908985, -0.22592785469484372, -1.0587185465539082, -1.5622718342099677, -1.5724755942167046, -0.777256382584842, -0.633843244734947, -0.28777351204320284, 0.8455822409050784, 0.5220517968629431, -1.382988719190781, -0.21950333464771535, -1.329324639069577, -1.120028523742404, 0.024923029254012675, -0.9884040176703602, -2.019237873238612, -0.8557303199870666, -0.18119212582577554, -0.38492008098735403, -0.1548735972165586, -1.5437920343977565, -0.5988517961556696], \"z\": [-0.6845861626897367, -0.0941217155290823, -0.5540068353861004, -0.023101767813801573, -0.39825552250622653, 0.12419154951817007, 0.14896940252805083, 0.24926526578924937, -0.5961693613725382, 0.5388993901843675, -0.04679044405838314, 0.20507381532720267, -0.765771393653961, -0.06865894542301247, 0.19493289332897867, -0.5035113816560299, 0.4908730745147273, -0.3020371744413823, -0.48230402409723744, -0.1728378084328765, 0.6165263063228635, -0.26495222652803946, -0.36841227204861, -0.2918962524431577, -0.44602700756174685, -0.47257895443311443, -0.7271550018678914, -0.2608265767906138, 0.08586388873932602, -0.3195733299955363, -0.14998347833947334, -0.24155228129068335, -0.15121195705700816, 0.10531138658459722, 0.6652497197140529, 0.45063407144476536, -0.39578638444579695, -0.6882959600930608, 0.2915792743532842, 0.08941002293969483, 0.09448760101279033, -0.02048114717577583, -0.19938975530424485, 0.10582104781283835, 0.13088968535255133, 0.12897834306143346, 0.15621315350638387, -0.2716503623624205, 0.19040093039983605, 0.09187916100012418]}, {\"hoverlabel\": {\"namelength\": 0}, \"hovertemplate\": \"target=virginica<br>PCA1=%{x}<br>PCA2=%{y}<br>PCA3=%{z}\", \"legendgroup\": \"target=virginica\", \"marker\": {\"color\": \"#19d3f3\", \"line\": {\"color\": \"DarkSlateGrey\", \"width\": 8}, \"size\": 5, \"symbol\": \"square\"}, \"mode\": \"markers\", \"name\": \"target=virginica\", \"scene\": \"scene\", \"showlegend\": true, \"type\": \"scatter3d\", \"x\": [1.8445688677230294, 1.15788161320578, 2.205266791075379, 1.44015066382754, 1.867812220330538, 2.7518733356662772, 0.36701768786072475, 2.3024394446251972, 2.0066864676766065, 2.2597773490125004, 1.3641754921860079, 1.6026786704779312, 1.8839007017032428, 1.2601150991975083, 1.4676452010173244, 1.590077317614566, 1.4714314611333188, 2.4263289873157, 3.3106955839338883, 1.263766673639829, 2.037716301469405, 0.977980734249422, 2.8976514907341695, 1.3332321759732095, 1.7007338974912174, 1.9543267058530711, 1.1751036315549332, 1.0209505506957914, 1.7883499201796662, 1.8636475533282617, 2.435953727922704, 2.3049277218317648, 1.862703219794956, 1.1141477406864753, 1.2024733016783913, 2.7987704475781086, 1.5762559101947546, 1.3462921036270623, 0.9248249165424198, 1.8520450517676705, 2.0148104299548764, 1.9017840902621896, 1.15788161320578, 2.0405582280520926, 1.9981470959523766, 1.8705032929564114, 1.564580483030329, 1.5211704996278381, 1.3727877895140732, 0.9606560300371284], \"y\": [0.8704213123248228, -0.6988698623306908, 0.5620104770083562, -0.04698758810580661, 0.2950448244570197, 0.8004092010275428, -1.561502891476507, 0.42006557964277697, -0.7114386535471584, 1.9210103764598871, 0.6927564544903871, -0.4217004497726173, 0.4192496506051239, -1.1622604214064638, -0.442271587377083, 0.6762448057233199, 0.25562182447147064, 2.5566612507954933, 0.017780949320628125, -1.7067453803762673, 0.9104674096183111, -0.5717643248129923, 0.4136410595956487, -0.4818112186494293, 1.0139218673227917, 1.007777596153453, -0.3163944723097911, 0.06434602923956177, -0.1873612145908289, 0.5622907258861453, 0.259284433144281, 2.6263234682323797, -0.17854949462549055, -0.2929226233357313, -0.8113152708396687, 0.8568033294971065, 1.0685811073208074, 0.42243061085250827, 0.017223100452283997, 0.6761281744365218, 0.6138856369235752, 0.6895754942430029, -0.6988698623306908, 0.8675206009552285, 1.049168747184145, 0.3869660816657258, -0.896686808896526, 0.26906914427795176, 1.0112544185267927, -0.024331668169399655], \"z\": [1.0054010176069863, 0.530160149249019, -0.2029141697368686, 0.1636301068300584, 0.39562837455329725, -0.5823091028286042, 0.9868932674720247, -0.6517064392599928, -0.3939905708165642, 0.39755189746977365, 0.2846120737568162, 0.023186407910062594, 0.02633840954407482, 0.5802492897873727, 1.0038695737342596, 0.6384287080805974, 0.0374312598779687, -0.12788145946307258, -0.7033053039033292, -0.26753689325035357, 0.2347994836003275, 0.8281272013877691, -0.8574218248739515, -0.005428363830018003, 0.29845061253300503, -0.4199847219186199, 0.12993775701688126, 0.33771596749955285, 0.2706580063187421, -0.7156341185745362, -0.7278161456737292, -0.49347380769433064, 0.3541487121404407, -0.18348839165934266, -0.16472375738765377, -0.5429064994324284, 0.9458538186439901, 0.18087547785437982, 0.41682619296970425, -0.01267211480835188, 0.4283328421150927, 0.1300750054465104, 0.530160149249019, 0.3381440004590139, 0.632413435819799, 0.25627385239859996, -0.026371351632304467, 0.18017838013283125, 0.9333952411629313, 0.5282488069579016]}],\n",
              "                        {\"legend\": {\"tracegroupgap\": 0}, \"margin\": {\"t\": 60}, \"scene\": {\"domain\": {\"x\": [0.0, 1.0], \"y\": [0.0, 1.0]}, \"xaxis\": {\"title\": {\"text\": \"PCA1\"}}, \"yaxis\": {\"title\": {\"text\": \"PCA2\"}}, \"zaxis\": {\"title\": {\"text\": \"PCA3\"}}}, \"template\": {\"data\": {\"bar\": [{\"error_x\": {\"color\": \"#2a3f5f\"}, \"error_y\": {\"color\": \"#2a3f5f\"}, \"marker\": {\"line\": {\"color\": \"#E5ECF6\", \"width\": 0.5}}, \"type\": \"bar\"}], \"barpolar\": [{\"marker\": {\"line\": {\"color\": \"#E5ECF6\", \"width\": 0.5}}, \"type\": \"barpolar\"}], \"carpet\": [{\"aaxis\": {\"endlinecolor\": \"#2a3f5f\", \"gridcolor\": \"white\", \"linecolor\": \"white\", \"minorgridcolor\": \"white\", \"startlinecolor\": \"#2a3f5f\"}, \"baxis\": {\"endlinecolor\": \"#2a3f5f\", \"gridcolor\": \"white\", \"linecolor\": \"white\", \"minorgridcolor\": \"white\", \"startlinecolor\": \"#2a3f5f\"}, \"type\": \"carpet\"}], \"choropleth\": [{\"colorbar\": {\"outlinewidth\": 0, \"ticks\": \"\"}, \"type\": \"choropleth\"}], \"contour\": [{\"colorbar\": {\"outlinewidth\": 0, \"ticks\": \"\"}, \"colorscale\": [[0.0, \"#0d0887\"], [0.1111111111111111, \"#46039f\"], [0.2222222222222222, \"#7201a8\"], [0.3333333333333333, \"#9c179e\"], [0.4444444444444444, \"#bd3786\"], [0.5555555555555556, \"#d8576b\"], [0.6666666666666666, \"#ed7953\"], [0.7777777777777778, \"#fb9f3a\"], [0.8888888888888888, \"#fdca26\"], [1.0, \"#f0f921\"]], \"type\": \"contour\"}], \"contourcarpet\": [{\"colorbar\": {\"outlinewidth\": 0, \"ticks\": \"\"}, \"type\": \"contourcarpet\"}], \"heatmap\": [{\"colorbar\": {\"outlinewidth\": 0, \"ticks\": \"\"}, \"colorscale\": [[0.0, \"#0d0887\"], [0.1111111111111111, \"#46039f\"], [0.2222222222222222, \"#7201a8\"], [0.3333333333333333, \"#9c179e\"], [0.4444444444444444, \"#bd3786\"], [0.5555555555555556, \"#d8576b\"], [0.6666666666666666, \"#ed7953\"], [0.7777777777777778, \"#fb9f3a\"], [0.8888888888888888, \"#fdca26\"], [1.0, \"#f0f921\"]], \"type\": \"heatmap\"}], \"heatmapgl\": [{\"colorbar\": {\"outlinewidth\": 0, \"ticks\": \"\"}, \"colorscale\": [[0.0, \"#0d0887\"], [0.1111111111111111, \"#46039f\"], [0.2222222222222222, \"#7201a8\"], [0.3333333333333333, \"#9c179e\"], [0.4444444444444444, \"#bd3786\"], [0.5555555555555556, \"#d8576b\"], [0.6666666666666666, \"#ed7953\"], [0.7777777777777778, \"#fb9f3a\"], [0.8888888888888888, \"#fdca26\"], [1.0, \"#f0f921\"]], \"type\": \"heatmapgl\"}], \"histogram\": [{\"marker\": {\"colorbar\": {\"outlinewidth\": 0, \"ticks\": \"\"}}, \"type\": \"histogram\"}], \"histogram2d\": [{\"colorbar\": {\"outlinewidth\": 0, \"ticks\": \"\"}, \"colorscale\": [[0.0, \"#0d0887\"], [0.1111111111111111, \"#46039f\"], [0.2222222222222222, \"#7201a8\"], [0.3333333333333333, \"#9c179e\"], [0.4444444444444444, \"#bd3786\"], [0.5555555555555556, \"#d8576b\"], [0.6666666666666666, \"#ed7953\"], [0.7777777777777778, \"#fb9f3a\"], [0.8888888888888888, \"#fdca26\"], [1.0, \"#f0f921\"]], \"type\": \"histogram2d\"}], \"histogram2dcontour\": [{\"colorbar\": {\"outlinewidth\": 0, \"ticks\": \"\"}, \"colorscale\": [[0.0, \"#0d0887\"], [0.1111111111111111, \"#46039f\"], [0.2222222222222222, \"#7201a8\"], [0.3333333333333333, \"#9c179e\"], [0.4444444444444444, \"#bd3786\"], [0.5555555555555556, \"#d8576b\"], [0.6666666666666666, \"#ed7953\"], [0.7777777777777778, \"#fb9f3a\"], [0.8888888888888888, \"#fdca26\"], [1.0, \"#f0f921\"]], \"type\": \"histogram2dcontour\"}], \"mesh3d\": [{\"colorbar\": {\"outlinewidth\": 0, \"ticks\": \"\"}, \"type\": \"mesh3d\"}], \"parcoords\": [{\"line\": {\"colorbar\": {\"outlinewidth\": 0, \"ticks\": \"\"}}, \"type\": \"parcoords\"}], \"pie\": [{\"automargin\": true, \"type\": \"pie\"}], \"scatter\": [{\"marker\": {\"colorbar\": {\"outlinewidth\": 0, \"ticks\": \"\"}}, \"type\": \"scatter\"}], \"scatter3d\": [{\"line\": {\"colorbar\": {\"outlinewidth\": 0, \"ticks\": \"\"}}, \"marker\": {\"colorbar\": {\"outlinewidth\": 0, \"ticks\": \"\"}}, \"type\": \"scatter3d\"}], \"scattercarpet\": [{\"marker\": {\"colorbar\": {\"outlinewidth\": 0, \"ticks\": \"\"}}, \"type\": \"scattercarpet\"}], \"scattergeo\": [{\"marker\": {\"colorbar\": {\"outlinewidth\": 0, \"ticks\": \"\"}}, \"type\": \"scattergeo\"}], \"scattergl\": [{\"marker\": {\"colorbar\": {\"outlinewidth\": 0, \"ticks\": \"\"}}, \"type\": \"scattergl\"}], \"scattermapbox\": [{\"marker\": {\"colorbar\": {\"outlinewidth\": 0, \"ticks\": \"\"}}, \"type\": \"scattermapbox\"}], \"scatterpolar\": [{\"marker\": {\"colorbar\": {\"outlinewidth\": 0, \"ticks\": \"\"}}, \"type\": \"scatterpolar\"}], \"scatterpolargl\": [{\"marker\": {\"colorbar\": {\"outlinewidth\": 0, \"ticks\": \"\"}}, \"type\": \"scatterpolargl\"}], \"scatterternary\": [{\"marker\": {\"colorbar\": {\"outlinewidth\": 0, \"ticks\": \"\"}}, \"type\": \"scatterternary\"}], \"surface\": [{\"colorbar\": {\"outlinewidth\": 0, \"ticks\": \"\"}, \"colorscale\": [[0.0, \"#0d0887\"], [0.1111111111111111, \"#46039f\"], [0.2222222222222222, \"#7201a8\"], [0.3333333333333333, \"#9c179e\"], [0.4444444444444444, \"#bd3786\"], [0.5555555555555556, \"#d8576b\"], [0.6666666666666666, \"#ed7953\"], [0.7777777777777778, \"#fb9f3a\"], [0.8888888888888888, \"#fdca26\"], [1.0, \"#f0f921\"]], \"type\": \"surface\"}], \"table\": [{\"cells\": {\"fill\": {\"color\": \"#EBF0F8\"}, \"line\": {\"color\": \"white\"}}, \"header\": {\"fill\": {\"color\": \"#C8D4E3\"}, \"line\": {\"color\": \"white\"}}, \"type\": \"table\"}]}, \"layout\": {\"annotationdefaults\": {\"arrowcolor\": \"#2a3f5f\", \"arrowhead\": 0, \"arrowwidth\": 1}, \"coloraxis\": {\"colorbar\": {\"outlinewidth\": 0, \"ticks\": \"\"}}, \"colorscale\": {\"diverging\": [[0, \"#8e0152\"], [0.1, \"#c51b7d\"], [0.2, \"#de77ae\"], [0.3, \"#f1b6da\"], [0.4, \"#fde0ef\"], [0.5, \"#f7f7f7\"], [0.6, \"#e6f5d0\"], [0.7, \"#b8e186\"], [0.8, \"#7fbc41\"], [0.9, \"#4d9221\"], [1, \"#276419\"]], \"sequential\": [[0.0, \"#0d0887\"], [0.1111111111111111, \"#46039f\"], [0.2222222222222222, \"#7201a8\"], [0.3333333333333333, \"#9c179e\"], [0.4444444444444444, \"#bd3786\"], [0.5555555555555556, \"#d8576b\"], [0.6666666666666666, \"#ed7953\"], [0.7777777777777778, \"#fb9f3a\"], [0.8888888888888888, \"#fdca26\"], [1.0, \"#f0f921\"]], \"sequentialminus\": [[0.0, \"#0d0887\"], [0.1111111111111111, \"#46039f\"], [0.2222222222222222, \"#7201a8\"], [0.3333333333333333, \"#9c179e\"], [0.4444444444444444, \"#bd3786\"], [0.5555555555555556, \"#d8576b\"], [0.6666666666666666, \"#ed7953\"], [0.7777777777777778, \"#fb9f3a\"], [0.8888888888888888, \"#fdca26\"], [1.0, \"#f0f921\"]]}, \"colorway\": [\"#636efa\", \"#EF553B\", \"#00cc96\", \"#ab63fa\", \"#FFA15A\", \"#19d3f3\", \"#FF6692\", \"#B6E880\", \"#FF97FF\", \"#FECB52\"], \"font\": {\"color\": \"#2a3f5f\"}, \"geo\": {\"bgcolor\": \"white\", \"lakecolor\": \"white\", \"landcolor\": \"#E5ECF6\", \"showlakes\": true, \"showland\": true, \"subunitcolor\": \"white\"}, \"hoverlabel\": {\"align\": \"left\"}, \"hovermode\": \"closest\", \"mapbox\": {\"style\": \"light\"}, \"paper_bgcolor\": \"white\", \"plot_bgcolor\": \"#E5ECF6\", \"polar\": {\"angularaxis\": {\"gridcolor\": \"white\", \"linecolor\": \"white\", \"ticks\": \"\"}, \"bgcolor\": \"#E5ECF6\", \"radialaxis\": {\"gridcolor\": \"white\", \"linecolor\": \"white\", \"ticks\": \"\"}}, \"scene\": {\"xaxis\": {\"backgroundcolor\": \"#E5ECF6\", \"gridcolor\": \"white\", \"gridwidth\": 2, \"linecolor\": \"white\", \"showbackground\": true, \"ticks\": \"\", \"zerolinecolor\": \"white\"}, \"yaxis\": {\"backgroundcolor\": \"#E5ECF6\", \"gridcolor\": \"white\", \"gridwidth\": 2, \"linecolor\": \"white\", \"showbackground\": true, \"ticks\": \"\", \"zerolinecolor\": \"white\"}, \"zaxis\": {\"backgroundcolor\": \"#E5ECF6\", \"gridcolor\": \"white\", \"gridwidth\": 2, \"linecolor\": \"white\", \"showbackground\": true, \"ticks\": \"\", \"zerolinecolor\": \"white\"}}, \"shapedefaults\": {\"line\": {\"color\": \"#2a3f5f\"}}, \"ternary\": {\"aaxis\": {\"gridcolor\": \"white\", \"linecolor\": \"white\", \"ticks\": \"\"}, \"baxis\": {\"gridcolor\": \"white\", \"linecolor\": \"white\", \"ticks\": \"\"}, \"bgcolor\": \"#E5ECF6\", \"caxis\": {\"gridcolor\": \"white\", \"linecolor\": \"white\", \"ticks\": \"\"}}, \"title\": {\"x\": 0.05}, \"xaxis\": {\"automargin\": true, \"gridcolor\": \"white\", \"linecolor\": \"white\", \"ticks\": \"\", \"title\": {\"standoff\": 15}, \"zerolinecolor\": \"white\", \"zerolinewidth\": 2}, \"yaxis\": {\"automargin\": true, \"gridcolor\": \"white\", \"linecolor\": \"white\", \"ticks\": \"\", \"title\": {\"standoff\": 15}, \"zerolinecolor\": \"white\", \"zerolinewidth\": 2}}}},\n",
              "                        {\"responsive\": true}\n",
              "                    ).then(function(){\n",
              "                            \n",
              "var gd = document.getElementById('fdeb9cf3-bae3-4143-bac5-3c138e3cc56b');\n",
              "var x = new MutationObserver(function (mutations, observer) {{\n",
              "        var display = window.getComputedStyle(gd).display;\n",
              "        if (!display || display === 'none') {{\n",
              "            console.log([gd, 'removed!']);\n",
              "            Plotly.purge(gd);\n",
              "            observer.disconnect();\n",
              "        }}\n",
              "}});\n",
              "\n",
              "// Listen for the removal of the full notebook cells\n",
              "var notebookContainer = gd.closest('#notebook-container');\n",
              "if (notebookContainer) {{\n",
              "    x.observe(notebookContainer, {childList: true});\n",
              "}}\n",
              "\n",
              "// Listen for the clearing of the current output cell\n",
              "var outputEl = gd.closest('.output');\n",
              "if (outputEl) {{\n",
              "    x.observe(outputEl, {childList: true});\n",
              "}}\n",
              "\n",
              "                        })\n",
              "                };\n",
              "                \n",
              "            </script>\n",
              "        </div>\n",
              "</body>\n",
              "</html>"
            ]
          },
          "metadata": {
            "tags": []
          }
        }
      ]
    },
    {
      "cell_type": "markdown",
      "metadata": {
        "id": "v7aEEw-ZRtE_"
      },
      "source": [
        "By using the first three principal components we see a much better separation between classes.\n",
        "\n",
        "Versicolor and Virginica could see a better separation for the first two principal components.\n",
        "\n",
        "# The Explained Variance\n",
        "\n",
        "The explained variance gives us information (variance) that can be associated to each principal component. "
      ]
    },
    {
      "cell_type": "code",
      "metadata": {
        "id": "A1T8pTt0SCJX",
        "colab": {
          "base_uri": "https://localhost:8080/"
        },
        "outputId": "dd78363c-ba7d-4b09-9505-dafa2ccb445d"
      },
      "source": [
        "pca.explained_variance_ratio_"
      ],
      "execution_count": null,
      "outputs": [
        {
          "output_type": "execute_result",
          "data": {
            "text/plain": [
              "array([0.72962445, 0.22850762, 0.03668922, 0.00517871])"
            ]
          },
          "metadata": {
            "tags": []
          },
          "execution_count": 51
        }
      ]
    },
    {
      "cell_type": "markdown",
      "metadata": {
        "id": "0RJrowYDSF8-"
      },
      "source": [
        "The results show that the first two principal components are able to retain about 94% of the information stored in the data. The first principal component retains 73% of the variance, and the second principal component contains about 22.85% of the variance. The third and fourth principal components contain the rest of the variance in the dataset."
      ]
    },
    {
      "cell_type": "markdown",
      "metadata": {
        "id": "HvuEZ1Wq1t-b"
      },
      "source": [
        "## PCA for Feature Selection:\n",
        "\n",
        "## Data Dimensionality Reduction \n",
        "### Principal Components Analysis for Feature Selection\n",
        "\n",
        "#### The MNIST Dataset\n",
        "\n",
        "Lets begin by importing the necessary packages for this notebook:\n",
        "\n",
        "I will begin by running the MNIST through a  basic feed forward Neural Network in Sklearn which I know gives accurate results. I will then test my PCA data through it to confirm its accuracy. Then, once we can confirm results, we reconstruct the 28x28 images from the PCA retained features to train the neural network from Question 1 to classify MNIST images."
      ]
    },
    {
      "cell_type": "code",
      "metadata": {
        "id": "uPSp5sPe1tua"
      },
      "source": [
        "%matplotlib inline\n",
        "%tensorflow_version 1.x\n",
        "\n",
        "import numpy as np\n",
        "\n",
        "# PyTorch packages\n",
        "import torch\n",
        "import torch.nn as nn\n",
        "import torch.nn.functional as F\n",
        "import torch.optim as optim\n",
        "\n",
        "# torchvision for loading MNIST dataset\n",
        "import torchvision\n",
        "from torchvision import datasets, transforms\n",
        "\n",
        "# For plotting\n",
        "import matplotlib.pyplot as plt\n",
        "\n",
        "from keras import models, layers, optimizers, utils"
      ],
      "execution_count": null,
      "outputs": []
    },
    {
      "cell_type": "code",
      "metadata": {
        "id": "pAzqioos5IQp",
        "colab": {
          "base_uri": "https://localhost:8080/"
        },
        "outputId": "f925a8de-8175-437b-d552-1440c72b0dbd"
      },
      "source": [
        "# Download the training data\n",
        "train_data = datasets.MNIST('./mnist_data', download=True, train=True,\n",
        "                            transform=transforms.Compose([\n",
        "                              transforms.ToTensor(),\n",
        "                              transforms.Normalize((0.5,), (0.5,) \n",
        "                              )\n",
        "                            ]))\n",
        "\n",
        "# Download the test data\n",
        "test_data = datasets.MNIST('./mnist_data', download=True, train=False,\n",
        "                            transform=transforms.Compose([\n",
        "                              transforms.ToTensor(),\n",
        "                              transforms.Normalize((0.5,), (0.5,))\n",
        "                            ]))\n",
        "\n",
        "classes = [i for i in range(10)]\n",
        "\n",
        "print(\"Training examples: \", len(train_data))\n",
        "print(\"Test examples: \", len(test_data))\n",
        "\n",
        "print(type(train_data))\n",
        "print(type(test_data))\n",
        "################ Import Data ################\n",
        "\n",
        "train_batch_size = 60000\n",
        "test_batch_size = 10000\n",
        "\n",
        "train_loader = torch.utils.data.DataLoader(train_data, batch_size=train_batch_size, shuffle=True)\n",
        "test_loader = torch.utils.data.DataLoader(test_data, batch_size=test_batch_size, shuffle=False)\n",
        "\n",
        "for i, data in enumerate(train_loader, 0):\n",
        "      x_training, y_training = data\n",
        "      \n",
        "for i, data in enumerate(test_loader, 0):\n",
        "      x_test, y_test = data\n",
        "\n",
        "print(\"x_training type: \" + str(type(x_training)))\n",
        "print(\"x_training shape: \" + str(x_training.shape))\n",
        "\n",
        "print(\"x_test type: \" + str(type(x_test)))\n",
        "print(\"x_training shape: \" + str(x_test.shape))\n"
      ],
      "execution_count": null,
      "outputs": [
        {
          "output_type": "stream",
          "text": [
            "Training examples:  60000\n",
            "Test examples:  10000\n",
            "torchvision.datasets.mnist.MNIST\n",
            "torchvision.datasets.mnist.MNIST\n",
            "x_training type: <class 'torch.Tensor'>\n",
            "x_training shape: torch.Size([60000, 1, 28, 28])\n",
            "x_test type: <class 'torch.Tensor'>\n",
            "x_training shape: torch.Size([10000, 1, 28, 28])\n"
          ],
          "name": "stdout"
        }
      ]
    },
    {
      "cell_type": "markdown",
      "metadata": {
        "id": "axzZWyJAXrZ4"
      },
      "source": [
        "Convert data to numpy arrays to work with them:"
      ]
    },
    {
      "cell_type": "code",
      "metadata": {
        "id": "2ZlEvXIXXrCN",
        "colab": {
          "base_uri": "https://localhost:8080/"
        },
        "outputId": "fa788ec3-3ecc-4519-ec48-e4863b45b06c"
      },
      "source": [
        "x_training_np = x_training.numpy()\n",
        "y_training_np = y_training.numpy()\n",
        "\n",
        "x_test_np = x_test.numpy()\n",
        "y_test_np = y_test.numpy()\n",
        "\n",
        "print(type(x_training_np))\n",
        "print(x_training_np.shape)\n",
        "\n",
        "print(type(y_training_np))\n",
        "print(y_training_np.shape)\n",
        "\n",
        "print(type(x_test_np))\n",
        "print(x_test_np.shape)\n",
        "\n",
        "print(type(y_test_np))\n",
        "print(y_test_np.shape)"
      ],
      "execution_count": null,
      "outputs": [
        {
          "output_type": "stream",
          "text": [
            "<class 'numpy.ndarray'>\n",
            "(60000, 1, 28, 28)\n",
            "<class 'numpy.ndarray'>\n",
            "(60000,)\n",
            "<class 'numpy.ndarray'>\n",
            "(10000, 1, 28, 28)\n",
            "<class 'numpy.ndarray'>\n",
            "(10000,)\n"
          ],
          "name": "stdout"
        }
      ]
    },
    {
      "cell_type": "markdown",
      "metadata": {
        "id": "OziZhlB_X0S1"
      },
      "source": [
        "Create copies of the data:"
      ]
    },
    {
      "cell_type": "code",
      "metadata": {
        "id": "3e04_CuUXNhr"
      },
      "source": [
        "x_training_np_copy = np.copy(x_training_np)\n",
        "y_training_np_copy = np.copy(y_training_np)\n",
        "\n",
        "x_test_np_copy = np.copy(x_test_np)\n",
        "y_test_np_copy = np.copy(y_test_np)"
      ],
      "execution_count": null,
      "outputs": []
    },
    {
      "cell_type": "markdown",
      "metadata": {
        "id": "ZW-B98H7YAnq"
      },
      "source": [
        "Data Reshaping:\n",
        "Turning each of our 28x28 images into a one dimensional vector."
      ]
    },
    {
      "cell_type": "code",
      "metadata": {
        "id": "u2KieapzW1-E"
      },
      "source": [
        "x_training_np = x_training_np.reshape(train_batch_size,784)\n",
        "x_test_np = x_test_np.reshape(test_batch_size,784)"
      ],
      "execution_count": null,
      "outputs": []
    },
    {
      "cell_type": "markdown",
      "metadata": {
        "id": "2ZRYQRqzYLNw"
      },
      "source": [
        "One hot encoding of labels :"
      ]
    },
    {
      "cell_type": "code",
      "metadata": {
        "id": "YNd6g6n8W6V0"
      },
      "source": [
        "y_training_np = utils.to_categorical(y_training_np, 10)\n",
        "y_test_np = utils.to_categorical(y_test_np, 10)"
      ],
      "execution_count": null,
      "outputs": []
    },
    {
      "cell_type": "markdown",
      "metadata": {
        "id": "KRDptm9kEMrB"
      },
      "source": [
        "Let's take a look at the type and shape of our data:"
      ]
    },
    {
      "cell_type": "code",
      "metadata": {
        "id": "tuXciG4TYNzz",
        "colab": {
          "base_uri": "https://localhost:8080/"
        },
        "outputId": "34a8a222-b00b-462f-9233-71640e05b074"
      },
      "source": [
        "print(type(x_training_np))\n",
        "print(x_training_np.shape)\n",
        "\n",
        "print(type(y_training_np))\n",
        "print(y_training_np.shape)\n",
        "\n",
        "print(type(x_test_np))\n",
        "print(x_test_np.shape)\n",
        "\n",
        "print(type(y_test_np))\n",
        "print(y_test_np.shape)"
      ],
      "execution_count": null,
      "outputs": [
        {
          "output_type": "stream",
          "text": [
            "<class 'numpy.ndarray'>\n",
            "(60000, 784)\n",
            "<class 'numpy.ndarray'>\n",
            "(60000, 10)\n",
            "<class 'numpy.ndarray'>\n",
            "(10000, 784)\n",
            "<class 'numpy.ndarray'>\n",
            "(10000, 10)\n"
          ],
          "name": "stdout"
        }
      ]
    },
    {
      "cell_type": "markdown",
      "metadata": {
        "id": "ldJVULyzErC8"
      },
      "source": [
        "Our data is ready to go. Let's first evaluate our Sklearn Neural Network to verify it is running properly.\n",
        "\n",
        "# Feed Forward Neural Network \n",
        "\n",
        "## Number of Neurons in Hidden Layer: 128 \n",
        "\n",
        "## Hidden Layer Activation Function:\n",
        "$f(x) = tanh(x)$\n",
        "\n",
        "## Number of Neurons in the output layer: 10 (one for each one-hot encoded vector)\n",
        "\n",
        "## Output layer Activation Function (Softmax):\n",
        "$f(x)_{i} = \\frac{e^{z_{i}}}{\\sum_{j=1} ^{K} e^{z_{j}} }$ for i = 1,...,K and $z = (z_{1},...,z_{K}) \\in \\mathbb{R}$\n",
        "\n",
        "Loss Function: Cross Entropy Loss\n",
        "\n",
        "$Cross Entropy Loss = - \\sum_{i}^{C} t_{i}log(f(s)_{i})$\n",
        "\n",
        "Optimizer: Nadam,\n",
        "Batch Size: 128,\n",
        "Epochs = 10\n",
        "\n",
        "\n",
        "\n",
        "\n"
      ]
    },
    {
      "cell_type": "code",
      "metadata": {
        "id": "z-w3HYZ5Eq5g",
        "colab": {
          "base_uri": "https://localhost:8080/"
        },
        "outputId": "7ea51d89-0189-43b8-ee61-a99f6b0d0b5d"
      },
      "source": [
        "inputs = layers.Input(shape=(784,))\n",
        "x = layers.Dense(128, activation='tanh')(inputs)\n",
        "\n",
        "outputs= layers.Dense(10, activation='softmax')(x)\n",
        "\n",
        "model = models.Model(inputs=inputs, outputs=outputs)\n",
        "\n",
        "model.compile(loss='categorical_crossentropy',\n",
        "              optimizer='Nadam', metrics=['accuracy'])\n",
        "\n",
        "history=model.fit(x_training_np, y_training_np,\n",
        "            batch_size=128,\n",
        "            epochs=10,\n",
        "            validation_data=(x_test_np, y_test_np))\n",
        "score = model.evaluate(x_test_np, y_test_np)\n",
        "print('Test loss:', score[0],'Test accuracy:', score[1])"
      ],
      "execution_count": null,
      "outputs": [
        {
          "output_type": "stream",
          "text": [
            "Train on 60000 samples, validate on 10000 samples\n",
            "Epoch 1/10\n",
            "60000/60000 [==============================] - 2s 32us/step - loss: 0.3516 - accuracy: 0.8972 - val_loss: 0.2071 - val_accuracy: 0.9385\n",
            "Epoch 2/10\n",
            "60000/60000 [==============================] - 2s 31us/step - loss: 0.1629 - accuracy: 0.9531 - val_loss: 0.1537 - val_accuracy: 0.9553\n",
            "Epoch 3/10\n",
            "60000/60000 [==============================] - 2s 30us/step - loss: 0.1241 - accuracy: 0.9635 - val_loss: 0.1187 - val_accuracy: 0.9635\n",
            "Epoch 4/10\n",
            "60000/60000 [==============================] - 2s 31us/step - loss: 0.1018 - accuracy: 0.9703 - val_loss: 0.1142 - val_accuracy: 0.9634\n",
            "Epoch 5/10\n",
            "60000/60000 [==============================] - 2s 31us/step - loss: 0.0894 - accuracy: 0.9729 - val_loss: 0.0980 - val_accuracy: 0.9689\n",
            "Epoch 6/10\n",
            "60000/60000 [==============================] - 2s 30us/step - loss: 0.0822 - accuracy: 0.9749 - val_loss: 0.0985 - val_accuracy: 0.9689\n",
            "Epoch 7/10\n",
            "60000/60000 [==============================] - 2s 30us/step - loss: 0.0749 - accuracy: 0.9774 - val_loss: 0.0960 - val_accuracy: 0.9714\n",
            "Epoch 8/10\n",
            "60000/60000 [==============================] - 2s 30us/step - loss: 0.0723 - accuracy: 0.9783 - val_loss: 0.1040 - val_accuracy: 0.9675\n",
            "Epoch 9/10\n",
            "60000/60000 [==============================] - 2s 30us/step - loss: 0.0695 - accuracy: 0.9786 - val_loss: 0.1058 - val_accuracy: 0.9662\n",
            "Epoch 10/10\n",
            "60000/60000 [==============================] - 2s 30us/step - loss: 0.0699 - accuracy: 0.9782 - val_loss: 0.1031 - val_accuracy: 0.9687\n",
            "10000/10000 [==============================] - 0s 22us/step\n",
            "Test loss: 0.1030869111103937 Test accuracy: 0.9686999917030334\n"
          ],
          "name": "stdout"
        }
      ]
    },
    {
      "cell_type": "code",
      "metadata": {
        "id": "hUY001-3EMQA",
        "colab": {
          "base_uri": "https://localhost:8080/",
          "height": 279
        },
        "outputId": "7f773a53-2236-49e2-8105-a4a3f32d7afa"
      },
      "source": [
        "# Plotting learning curves\n",
        "plt.plot(history.history['accuracy'],'--')\n",
        "plt.plot(history.history['val_accuracy'])\n",
        "plt.ylabel('Model Accuracy')\n",
        "plt.xlabel('Epoch')\n",
        "plt.legend(['train', 'test'], loc='lower right')\n",
        "plt.show()"
      ],
      "execution_count": null,
      "outputs": [
        {
          "output_type": "display_data",
          "data": {
            "image/png": "[encoded data removed]",
            "text/plain": [
              "<Figure size 432x288 with 1 Axes>"
            ]
          },
          "metadata": {
            "tags": [],
            "needs_background": "light"
          }
        }
      ]
    },
    {
      "cell_type": "markdown",
      "metadata": {
        "id": "MBmMg86RGZ1w"
      },
      "source": [
        "We have run the original MNIST dataset through the Neural Network and obtained a test accuracy of 97% on the hidden test data. Now that we know this standard NN works on MNIST, let us try this on the features we retain from a Principal Component Analysis.\n",
        "\n",
        "The dimensions of the MNIST dataset is 784, let's apply Principal Component Analysis (PCA) to reduce the dimensionality of the dataset in accordance to a set variance threshold (information retained) of our interest.\n",
        "\n",
        "Recall our training and test data:"
      ]
    },
    {
      "cell_type": "code",
      "metadata": {
        "id": "At8We-fCGP7r",
        "colab": {
          "base_uri": "https://localhost:8080/"
        },
        "outputId": "dbb26926-8a5e-4f32-ad55-160d207628f1"
      },
      "source": [
        "print(type(x_training_np))\n",
        "print(type(y_training_np))\n",
        "print(type(x_test_np))\n",
        "print(type(y_test_np))\n",
        "\n",
        "print(x_training_np.shape)\n",
        "print(y_training_np.shape)\n",
        "print(x_test_np.shape)\n",
        "print(y_test_np.shape)"
      ],
      "execution_count": null,
      "outputs": [
        {
          "output_type": "stream",
          "text": [
            "<class 'numpy.ndarray'>\n",
            "<class 'numpy.ndarray'>\n",
            "<class 'numpy.ndarray'>\n",
            "<class 'numpy.ndarray'>\n",
            "(60000, 784)\n",
            "(60000, 10)\n",
            "(10000, 784)\n",
            "(10000, 10)\n"
          ],
          "name": "stdout"
        }
      ]
    },
    {
      "cell_type": "markdown",
      "metadata": {
        "id": "nf6jMghwLDZo"
      },
      "source": [
        "Let's commence the PCA using Sklearn. Begin by scaling the data:"
      ]
    },
    {
      "cell_type": "code",
      "metadata": {
        "id": "SmHW2DfEJQ0r",
        "colab": {
          "base_uri": "https://localhost:8080/"
        },
        "outputId": "b7739e24-d4b5-4651-ffb4-cbb8d50f509b"
      },
      "source": [
        "from sklearn.preprocessing import StandardScaler\n",
        "scaler = StandardScaler()\n",
        "\n",
        "##Fit on the training set\n",
        "scaler.fit(x_training_np)\n",
        "\n",
        "##Apply the transform to the training and test set\n",
        "train_images = scaler.transform(x_training_np)\n",
        "test_images = scaler.transform(x_test_np)\n",
        "\n",
        "print(type(train_images))\n",
        "print(type(test_images))"
      ],
      "execution_count": null,
      "outputs": [
        {
          "output_type": "stream",
          "text": [
            "<class 'numpy.ndarray'>\n",
            "<class 'numpy.ndarray'>\n"
          ],
          "name": "stdout"
        }
      ]
    },
    {
      "cell_type": "markdown",
      "metadata": {
        "id": "oxWKe6kdMOkY"
      },
      "source": [
        "Create PCA variables for each of the PCA variance levels we want (95%,90%,75%,50%)."
      ]
    },
    {
      "cell_type": "code",
      "metadata": {
        "id": "vXpOfkseKgqF"
      },
      "source": [
        "from sklearn.decomposition import PCA\n",
        "pca1 = PCA(.95)\n",
        "pca2 = PCA(.90)\n",
        "pca3 = PCA(.75)\n",
        "pca4 = PCA(.50)"
      ],
      "execution_count": null,
      "outputs": []
    },
    {
      "cell_type": "markdown",
      "metadata": {
        "id": "T9Z6qjQeNLqJ"
      },
      "source": [
        "### Fit the training model and reduce data dimension"
      ]
    },
    {
      "cell_type": "code",
      "metadata": {
        "id": "b-Ztb4rsNIBq",
        "colab": {
          "base_uri": "https://localhost:8080/"
        },
        "outputId": "725bf65e-2391-451e-cb7d-2842ca0c996b"
      },
      "source": [
        "pca1.fit(train_images)\n",
        "print(\"pca1 components: \" + str(pca1.n_components_))\n",
        "\n",
        "pca2.fit(train_images)\n",
        "print(\"pca2 components: \" + str(pca2.n_components_))\n",
        "\n",
        "pca3.fit(train_images)\n",
        "print(\"pca3 components: \" + str(pca3.n_components_))\n",
        "\n",
        "pca4.fit(train_images)\n",
        "print(\"pca4 components: \" + str(pca4.n_components_))\n"
      ],
      "execution_count": null,
      "outputs": [
        {
          "output_type": "stream",
          "text": [
            "pca1 components: 331\n",
            "pca2 components: 236\n",
            "pca3 components: 120\n",
            "pca4 components: 39\n"
          ],
          "name": "stdout"
        }
      ]
    },
    {
      "cell_type": "markdown",
      "metadata": {
        "id": "nBcQMmDqNUK4"
      },
      "source": [
        "With a variance level of 95% the data has been reduced from a dimension of 784 to 331.\n",
        "\n",
        "With a variance level of 90% the data has been reduced from a dimension of 784 to 236.\n",
        "\n",
        "With a variance level of 75% the data has been reduced from a dimension of 784 to 120.\n",
        "\n",
        "With a variance level of 50% the data has been reduced from a dimension of 784 to 39."
      ]
    },
    {
      "cell_type": "code",
      "metadata": {
        "id": "ODFB4U2tNu45"
      },
      "source": [
        "train_img_95 = pca1.transform(train_images)\n",
        "test_img_95 = pca1.transform(test_images)\n",
        "\n",
        "train_img_90 = pca2.transform(train_images)\n",
        "test_img_90 = pca2.transform(test_images)\n",
        "\n",
        "train_img_75 = pca3.transform(train_images)\n",
        "test_img_75 = pca3.transform(test_images)\n",
        "\n",
        "train_img_50 = pca4.transform(train_images)\n",
        "test_img_50 = pca4.transform(test_images)"
      ],
      "execution_count": null,
      "outputs": []
    },
    {
      "cell_type": "markdown",
      "metadata": {
        "id": "r6FQHfKYNcNA"
      },
      "source": [
        "# Applying the reduced data to the same Neural Network as before:\n",
        "Variance level: 95%"
      ]
    },
    {
      "cell_type": "code",
      "metadata": {
        "id": "4aaEcjrrNOC2",
        "colab": {
          "base_uri": "https://localhost:8080/"
        },
        "outputId": "63224393-8b8c-4f43-b8ad-9c936e208ab4"
      },
      "source": [
        "inputs = layers.Input(shape=(train_img_95.shape[1],))\n",
        "x = layers.Dense(128, activation='tanh')(inputs)\n",
        "#x = layers.Dense(128, activation='tanh')(x)\n",
        "outputs= layers.Dense(10, activation='softmax')(x)\n",
        "\n",
        "model = models.Model(inputs=inputs, outputs=outputs)\n",
        "\n",
        "model.compile(loss='categorical_crossentropy',\n",
        "              optimizer='Nadam', metrics=['accuracy'])\n",
        "\n",
        "history=model.fit(train_img_95,y_training_np,\n",
        "            batch_size=128,\n",
        "            epochs=10,\n",
        "            validation_data=(test_img_95, y_test_np))\n",
        "score = model.evaluate(test_img_95, y_test_np)\n",
        "print('Test loss:', score[0],'Test accuracy:', score[1])"
      ],
      "execution_count": null,
      "outputs": [
        {
          "output_type": "stream",
          "text": [
            "Train on 60000 samples, validate on 10000 samples\n",
            "Epoch 1/10\n",
            "60000/60000 [==============================] - 1s 21us/step - loss: 0.3548 - accuracy: 0.8961 - val_loss: 0.2031 - val_accuracy: 0.9388\n",
            "Epoch 2/10\n",
            "60000/60000 [==============================] - 1s 19us/step - loss: 0.1626 - accuracy: 0.9519 - val_loss: 0.1634 - val_accuracy: 0.9506\n",
            "Epoch 3/10\n",
            "60000/60000 [==============================] - 1s 18us/step - loss: 0.1113 - accuracy: 0.9684 - val_loss: 0.1433 - val_accuracy: 0.9556\n",
            "Epoch 4/10\n",
            "60000/60000 [==============================] - 1s 18us/step - loss: 0.0799 - accuracy: 0.9776 - val_loss: 0.1321 - val_accuracy: 0.9618\n",
            "Epoch 5/10\n",
            "60000/60000 [==============================] - 1s 18us/step - loss: 0.0591 - accuracy: 0.9848 - val_loss: 0.1349 - val_accuracy: 0.9608\n",
            "Epoch 6/10\n",
            "60000/60000 [==============================] - 1s 18us/step - loss: 0.0440 - accuracy: 0.9886 - val_loss: 0.1331 - val_accuracy: 0.9621\n",
            "Epoch 7/10\n",
            "60000/60000 [==============================] - 1s 18us/step - loss: 0.0329 - accuracy: 0.9918 - val_loss: 0.1335 - val_accuracy: 0.9626\n",
            "Epoch 8/10\n",
            "60000/60000 [==============================] - 1s 19us/step - loss: 0.0254 - accuracy: 0.9943 - val_loss: 0.1424 - val_accuracy: 0.9620\n",
            "Epoch 9/10\n",
            "60000/60000 [==============================] - 1s 18us/step - loss: 0.0197 - accuracy: 0.9959 - val_loss: 0.1469 - val_accuracy: 0.9614\n",
            "Epoch 10/10\n",
            "60000/60000 [==============================] - 1s 18us/step - loss: 0.0179 - accuracy: 0.9965 - val_loss: 0.1461 - val_accuracy: 0.9624\n",
            "10000/10000 [==============================] - 0s 20us/step\n",
            "Test loss: 0.14610742060267368 Test accuracy: 0.9624000191688538\n"
          ],
          "name": "stdout"
        }
      ]
    },
    {
      "cell_type": "code",
      "metadata": {
        "id": "JATtnMt6Np4M",
        "colab": {
          "base_uri": "https://localhost:8080/",
          "height": 280
        },
        "outputId": "0d620514-bd75-4259-acb6-001b9dc9f6d3"
      },
      "source": [
        "# Plotting learning curves\n",
        "plt.plot(history.history['accuracy'],'--')\n",
        "plt.plot(history.history['val_accuracy'])\n",
        "plt.ylabel('accuracy')\n",
        "plt.xlabel('epoch')\n",
        "plt.legend(['train', 'test'], loc='lower right')\n",
        "plt.show()"
      ],
      "execution_count": null,
      "outputs": [
        {
          "output_type": "display_data",
          "data": {
            "image/png": "[encoded data removed]",
            "text/plain": [
              "<Figure size 432x288 with 1 Axes>"
            ]
          },
          "metadata": {
            "tags": [],
            "needs_background": "light"
          }
        }
      ]
    },
    {
      "cell_type": "markdown",
      "metadata": {
        "id": "vjtxS1P3OJ4V"
      },
      "source": [
        "# Variance level: 90%"
      ]
    },
    {
      "cell_type": "code",
      "metadata": {
        "id": "b2TZnjT7OGV6",
        "colab": {
          "base_uri": "https://localhost:8080/",
          "height": 674
        },
        "outputId": "50e07934-f0f2-468a-b73b-66a3400c94ff"
      },
      "source": [
        "inputs = layers.Input(shape=(train_img_90.shape[1],))\n",
        "x = layers.Dense(128, activation='tanh')(inputs)\n",
        "#x = layers.Dense(128, activation='tanh')(x)\n",
        "outputs= layers.Dense(10, activation='softmax')(x)\n",
        "\n",
        "model = models.Model(inputs=inputs, outputs=outputs)\n",
        "\n",
        "model.compile(loss='categorical_crossentropy',\n",
        "              optimizer='Nadam', metrics=['accuracy'])\n",
        "\n",
        "history=model.fit(train_img_90,y_training_np,\n",
        "            batch_size=128,\n",
        "            epochs=10,\n",
        "            validation_data=(test_img_90, y_test_np))\n",
        "score = model.evaluate(test_img_90, y_test_np)\n",
        "print('Test loss:', score[0],'Test accuracy:', score[1])\n",
        "\n",
        "# Plotting learning curves\n",
        "plt.plot(history.history['accuracy'],'--')\n",
        "plt.plot(history.history['val_accuracy'])\n",
        "plt.ylabel('accuracy')\n",
        "plt.xlabel('epoch')\n",
        "plt.legend(['train', 'test'], loc='lower right')\n",
        "plt.show()"
      ],
      "execution_count": null,
      "outputs": [
        {
          "output_type": "stream",
          "text": [
            "Train on 60000 samples, validate on 10000 samples\n",
            "Epoch 1/10\n",
            "60000/60000 [==============================] - 1s 19us/step - loss: 0.3609 - accuracy: 0.8945 - val_loss: 0.2097 - val_accuracy: 0.9358\n",
            "Epoch 2/10\n",
            "60000/60000 [==============================] - 1s 16us/step - loss: 0.1635 - accuracy: 0.9527 - val_loss: 0.1606 - val_accuracy: 0.9527\n",
            "Epoch 3/10\n",
            "60000/60000 [==============================] - 1s 16us/step - loss: 0.1146 - accuracy: 0.9672 - val_loss: 0.1377 - val_accuracy: 0.9584\n",
            "Epoch 4/10\n",
            "60000/60000 [==============================] - 1s 16us/step - loss: 0.0848 - accuracy: 0.9761 - val_loss: 0.1316 - val_accuracy: 0.9628\n",
            "Epoch 5/10\n",
            "60000/60000 [==============================] - 1s 16us/step - loss: 0.0651 - accuracy: 0.9822 - val_loss: 0.1304 - val_accuracy: 0.9612\n",
            "Epoch 6/10\n",
            "60000/60000 [==============================] - 1s 16us/step - loss: 0.0525 - accuracy: 0.9860 - val_loss: 0.1273 - val_accuracy: 0.9631\n",
            "Epoch 7/10\n",
            "60000/60000 [==============================] - 1s 16us/step - loss: 0.0411 - accuracy: 0.9893 - val_loss: 0.1285 - val_accuracy: 0.9637\n",
            "Epoch 8/10\n",
            "60000/60000 [==============================] - 1s 16us/step - loss: 0.0329 - accuracy: 0.9926 - val_loss: 0.1330 - val_accuracy: 0.9625\n",
            "Epoch 9/10\n",
            "60000/60000 [==============================] - 1s 16us/step - loss: 0.0267 - accuracy: 0.9939 - val_loss: 0.1386 - val_accuracy: 0.9639\n",
            "Epoch 10/10\n",
            "60000/60000 [==============================] - 1s 16us/step - loss: 0.0225 - accuracy: 0.9953 - val_loss: 0.1378 - val_accuracy: 0.9640\n",
            "10000/10000 [==============================] - 0s 20us/step\n",
            "Test loss: 0.13780848563493928 Test accuracy: 0.9639999866485596\n"
          ],
          "name": "stdout"
        },
        {
          "output_type": "display_data",
          "data": {
            "image/png": "[encoded data removed]",
            "text/plain": [
              "<Figure size 432x288 with 1 Axes>"
            ]
          },
          "metadata": {
            "tags": [],
            "needs_background": "light"
          }
        }
      ]
    },
    {
      "cell_type": "markdown",
      "metadata": {
        "id": "RxWvDE8cONne"
      },
      "source": [
        "# Variance level: 75%"
      ]
    },
    {
      "cell_type": "code",
      "metadata": {
        "id": "jCKjq9dwOMkg",
        "colab": {
          "base_uri": "https://localhost:8080/",
          "height": 670
        },
        "outputId": "9bcba0e7-7dac-4f0a-a6f2-382e837e4e00"
      },
      "source": [
        "inputs = layers.Input(shape=(train_img_75.shape[1],))\n",
        "x = layers.Dense(128, activation='tanh')(inputs)\n",
        "#x = layers.Dense(128, activation='tanh')(x)\n",
        "outputs= layers.Dense(10, activation='softmax')(x)\n",
        "\n",
        "model = models.Model(inputs=inputs, outputs=outputs)\n",
        "\n",
        "model.compile(loss='categorical_crossentropy',\n",
        "              optimizer='Nadam', metrics=['accuracy'])\n",
        "\n",
        "history=model.fit(train_img_75,y_training_np,\n",
        "            batch_size=128,\n",
        "            epochs=10,\n",
        "            validation_data=(test_img_75, y_test_np))\n",
        "score = model.evaluate(test_img_75, y_test_np)\n",
        "print('Test loss:', score[0],'Test accuracy:', score[1])\n",
        "\n",
        "# Plotting learning curves\n",
        "plt.plot(history.history['accuracy'],'--')\n",
        "plt.plot(history.history['val_accuracy'])\n",
        "plt.ylabel('accuracy')\n",
        "plt.xlabel('epoch')\n",
        "plt.legend(['train', 'test'], loc='lower right')\n",
        "plt.show()"
      ],
      "execution_count": null,
      "outputs": [
        {
          "output_type": "stream",
          "text": [
            "Train on 60000 samples, validate on 10000 samples\n",
            "Epoch 1/10\n",
            "60000/60000 [==============================] - 1s 15us/step - loss: 0.3615 - accuracy: 0.8942 - val_loss: 0.2082 - val_accuracy: 0.9391\n",
            "Epoch 2/10\n",
            "60000/60000 [==============================] - 1s 13us/step - loss: 0.1729 - accuracy: 0.9490 - val_loss: 0.1658 - val_accuracy: 0.9524\n",
            "Epoch 3/10\n",
            "60000/60000 [==============================] - 1s 12us/step - loss: 0.1270 - accuracy: 0.9635 - val_loss: 0.1427 - val_accuracy: 0.9573\n",
            "Epoch 4/10\n",
            "60000/60000 [==============================] - 1s 12us/step - loss: 0.0993 - accuracy: 0.9708 - val_loss: 0.1280 - val_accuracy: 0.9627\n",
            "Epoch 5/10\n",
            "60000/60000 [==============================] - 1s 13us/step - loss: 0.0810 - accuracy: 0.9767 - val_loss: 0.1239 - val_accuracy: 0.9629\n",
            "Epoch 6/10\n",
            "60000/60000 [==============================] - 1s 13us/step - loss: 0.0678 - accuracy: 0.9805 - val_loss: 0.1233 - val_accuracy: 0.9648\n",
            "Epoch 7/10\n",
            "60000/60000 [==============================] - 1s 13us/step - loss: 0.0573 - accuracy: 0.9841 - val_loss: 0.1217 - val_accuracy: 0.9648\n",
            "Epoch 8/10\n",
            "60000/60000 [==============================] - 1s 13us/step - loss: 0.0491 - accuracy: 0.9865 - val_loss: 0.1221 - val_accuracy: 0.9637\n",
            "Epoch 9/10\n",
            "60000/60000 [==============================] - 1s 12us/step - loss: 0.0431 - accuracy: 0.9883 - val_loss: 0.1291 - val_accuracy: 0.9648\n",
            "Epoch 10/10\n",
            "60000/60000 [==============================] - 1s 12us/step - loss: 0.0384 - accuracy: 0.9891 - val_loss: 0.1280 - val_accuracy: 0.9636\n",
            "10000/10000 [==============================] - 0s 21us/step\n",
            "Test loss: 0.1280342545486521 Test accuracy: 0.9635999798774719\n"
          ],
          "name": "stdout"
        },
        {
          "output_type": "display_data",
          "data": {
            "image/png": "[encoded data removed]",
            "text/plain": [
              "<Figure size 432x288 with 1 Axes>"
            ]
          },
          "metadata": {
            "tags": [],
            "needs_background": "light"
          }
        }
      ]
    },
    {
      "cell_type": "markdown",
      "metadata": {
        "id": "omPbhnD0OTUl"
      },
      "source": [
        "# Variance Level 50%"
      ]
    },
    {
      "cell_type": "code",
      "metadata": {
        "id": "dyJ56jw9OSSG",
        "colab": {
          "base_uri": "https://localhost:8080/",
          "height": 670
        },
        "outputId": "b3d1e8b9-1b1a-413a-c3f9-bab6feef9a3e"
      },
      "source": [
        "inputs = layers.Input(shape=(train_img_50.shape[1],))\n",
        "x = layers.Dense(128, activation='tanh')(inputs)\n",
        "#x = layers.Dense(128, activation='tanh')(x)\n",
        "outputs= layers.Dense(10, activation='softmax')(x)\n",
        "\n",
        "model = models.Model(inputs=inputs, outputs=outputs)\n",
        "\n",
        "model.compile(loss='categorical_crossentropy',\n",
        "              optimizer='Nadam', metrics=['accuracy'])\n",
        "\n",
        "history=model.fit(train_img_50,y_training_np,\n",
        "            batch_size=128,\n",
        "            epochs=10,\n",
        "            validation_data=(test_img_50, y_test_np))\n",
        "score = model.evaluate(test_img_50, y_test_np)\n",
        "print('Test loss:', score[0],'Test accuracy:', score[1])\n",
        "\n",
        "# Plotting learning curves\n",
        "plt.plot(history.history['accuracy'],'--')\n",
        "plt.plot(history.history['val_accuracy'])\n",
        "plt.ylabel('accuracy')\n",
        "plt.xlabel('epoch')\n",
        "plt.legend(['train', 'test'], loc='lower right')\n",
        "plt.show()"
      ],
      "execution_count": null,
      "outputs": [
        {
          "output_type": "stream",
          "text": [
            "Train on 60000 samples, validate on 10000 samples\n",
            "Epoch 1/10\n",
            "60000/60000 [==============================] - 1s 13us/step - loss: 0.3955 - accuracy: 0.8821 - val_loss: 0.2307 - val_accuracy: 0.9309\n",
            "Epoch 2/10\n",
            "60000/60000 [==============================] - 1s 13us/step - loss: 0.1983 - accuracy: 0.9420 - val_loss: 0.1795 - val_accuracy: 0.9491\n",
            "Epoch 3/10\n",
            "60000/60000 [==============================] - 1s 11us/step - loss: 0.1535 - accuracy: 0.9552 - val_loss: 0.1571 - val_accuracy: 0.9550\n",
            "Epoch 4/10\n",
            "60000/60000 [==============================] - 1s 12us/step - loss: 0.1275 - accuracy: 0.9627 - val_loss: 0.1413 - val_accuracy: 0.9586\n",
            "Epoch 5/10\n",
            "60000/60000 [==============================] - 1s 12us/step - loss: 0.1112 - accuracy: 0.9675 - val_loss: 0.1380 - val_accuracy: 0.9587\n",
            "Epoch 6/10\n",
            "60000/60000 [==============================] - 1s 12us/step - loss: 0.0995 - accuracy: 0.9697 - val_loss: 0.1307 - val_accuracy: 0.9609\n",
            "Epoch 7/10\n",
            "60000/60000 [==============================] - 1s 12us/step - loss: 0.0891 - accuracy: 0.9739 - val_loss: 0.1314 - val_accuracy: 0.9636\n",
            "Epoch 8/10\n",
            "60000/60000 [==============================] - 1s 12us/step - loss: 0.0812 - accuracy: 0.9758 - val_loss: 0.1346 - val_accuracy: 0.9616\n",
            "Epoch 9/10\n",
            "60000/60000 [==============================] - 1s 12us/step - loss: 0.0744 - accuracy: 0.9771 - val_loss: 0.1328 - val_accuracy: 0.9603\n",
            "Epoch 10/10\n",
            "60000/60000 [==============================] - 1s 12us/step - loss: 0.0690 - accuracy: 0.9801 - val_loss: 0.1304 - val_accuracy: 0.9630\n",
            "10000/10000 [==============================] - 0s 20us/step\n",
            "Test loss: 0.1303790695411153 Test accuracy: 0.9629999995231628\n"
          ],
          "name": "stdout"
        },
        {
          "output_type": "display_data",
          "data": {
            "image/png": "[encoded data removed]",
            "text/plain": [
              "<Figure size 432x288 with 1 Axes>"
            ]
          },
          "metadata": {
            "tags": [],
            "needs_background": "light"
          }
        }
      ]
    },
    {
      "cell_type": "markdown",
      "metadata": {
        "id": "En-j88lqO50d"
      },
      "source": [
        "From running our PCA on our reduced data, we can see that the neural network is able to still make good predictions on our test data. I expect datasets with higher variance to be more accurate than datasets with less variance as they are able to retain less information than the former."
      ]
    },
    {
      "cell_type": "markdown",
      "metadata": {
        "id": "2mHGAhLPP7Au"
      },
      "source": [
        "## (ii) Approximating high dimensional structure from lower dimensional data.\n",
        "\n",
        "### Reconstructing 28x28 images from the retained features of the PCA's."
      ]
    },
    {
      "cell_type": "code",
      "metadata": {
        "id": "x8Tqpz1HOXI1",
        "colab": {
          "base_uri": "https://localhost:8080/"
        },
        "outputId": "5197bdf9-df8a-4d54-961c-1afae741f11b"
      },
      "source": [
        "##Training Images\n",
        "approx95_train = pca1.inverse_transform(train_img_95)\n",
        "approx90_train = pca2.inverse_transform(train_img_90)\n",
        "approx75_train = pca3.inverse_transform(train_img_75)\n",
        "approx50_train = pca4.inverse_transform(train_img_50)\n",
        "\n",
        "##Testing Images\n",
        "\n",
        "approx95_test = pca1.inverse_transform(test_img_95)\n",
        "approx90_test = pca2.inverse_transform(test_img_90)\n",
        "approx75_test = pca3.inverse_transform(test_img_75)\n",
        "approx50_test = pca4.inverse_transform(test_img_50)\n",
        "\n",
        "print(approx95_train.shape)\n",
        "print(approx90_train.shape)\n",
        "print(approx75_train.shape)\n",
        "print(approx50_train.shape)"
      ],
      "execution_count": null,
      "outputs": [
        {
          "output_type": "stream",
          "text": [
            "(60000, 784)\n",
            "(60000, 784)\n",
            "(60000, 784)\n",
            "(60000, 784)\n"
          ],
          "name": "stdout"
        }
      ]
    },
    {
      "cell_type": "markdown",
      "metadata": {
        "id": "rHexRWbgTOxi"
      },
      "source": [
        "Image reconstruction with increasing variance levels:"
      ]
    },
    {
      "cell_type": "code",
      "metadata": {
        "id": "Cks59LMTQAwd",
        "colab": {
          "base_uri": "https://localhost:8080/",
          "height": 282
        },
        "outputId": "75b3e63c-d2e8-4a43-e9fe-fc414887046b"
      },
      "source": [
        "plt.imshow(approx50_train[0].reshape(28,28),cmap=plt.cm.gray)\n",
        "print(\"label: \" + str(y_training_np_copy[0]))"
      ],
      "execution_count": null,
      "outputs": [
        {
          "output_type": "stream",
          "text": [
            "label: 9\n"
          ],
          "name": "stdout"
        },
        {
          "output_type": "display_data",
          "data": {
            "image/png": "[encoded data removed]",
            "text/plain": [
              "<Figure size 432x288 with 1 Axes>"
            ]
          },
          "metadata": {
            "tags": [],
            "needs_background": "light"
          }
        }
      ]
    },
    {
      "cell_type": "code",
      "metadata": {
        "id": "3w_yk2-IQIQQ",
        "colab": {
          "base_uri": "https://localhost:8080/",
          "height": 282
        },
        "outputId": "304af413-83b8-411b-a101-4ee55adb3064"
      },
      "source": [
        "plt.imshow(approx75_train[0].reshape(28,28),cmap=plt.cm.gray)\n",
        "print(\"label: \" + str(y_training_np_copy[0]))"
      ],
      "execution_count": null,
      "outputs": [
        {
          "output_type": "stream",
          "text": [
            "label: 9\n"
          ],
          "name": "stdout"
        },
        {
          "output_type": "display_data",
          "data": {
            "image/png": "[encoded data removed]",
            "text/plain": [
              "<Figure size 432x288 with 1 Axes>"
            ]
          },
          "metadata": {
            "tags": [],
            "needs_background": "light"
          }
        }
      ]
    },
    {
      "cell_type": "code",
      "metadata": {
        "id": "IvyiX0ZRQqiM",
        "colab": {
          "base_uri": "https://localhost:8080/",
          "height": 282
        },
        "outputId": "877a212c-4062-46cd-ac9a-b376b45cdceb"
      },
      "source": [
        "plt.imshow(approx90_train[0].reshape(28,28),cmap=plt.cm.gray)\n",
        "print(\"label: \" + str(y_training_np_copy[0]))"
      ],
      "execution_count": null,
      "outputs": [
        {
          "output_type": "stream",
          "text": [
            "label: 9\n"
          ],
          "name": "stdout"
        },
        {
          "output_type": "display_data",
          "data": {
            "image/png": "[encoded data removed]",
            "text/plain": [
              "<Figure size 432x288 with 1 Axes>"
            ]
          },
          "metadata": {
            "tags": [],
            "needs_background": "light"
          }
        }
      ]
    },
    {
      "cell_type": "code",
      "metadata": {
        "id": "A4ISo2GHTLFH",
        "colab": {
          "base_uri": "https://localhost:8080/",
          "height": 282
        },
        "outputId": "7777efc7-e1a8-4a88-9fc1-882fa471dfea"
      },
      "source": [
        "plt.imshow(approx95_train[0].reshape(28,28),cmap=plt.cm.gray)\n",
        "print(\"label: \" + str(y_training_np_copy[0]))"
      ],
      "execution_count": null,
      "outputs": [
        {
          "output_type": "stream",
          "text": [
            "label: 9\n"
          ],
          "name": "stdout"
        },
        {
          "output_type": "display_data",
          "data": {
            "image/png": "[encoded data removed]",
            "text/plain": [
              "<Figure size 432x288 with 1 Axes>"
            ]
          },
          "metadata": {
            "tags": [],
            "needs_background": "light"
          }
        }
      ]
    },
    {
      "cell_type": "markdown",
      "metadata": {
        "id": "bQo_UK2BUCNe"
      },
      "source": [
        "The original image:"
      ]
    },
    {
      "cell_type": "code",
      "metadata": {
        "id": "G23PNHDdTMvB",
        "colab": {
          "base_uri": "https://localhost:8080/",
          "height": 282
        },
        "outputId": "3b3cf82c-e705-40c0-b99e-a303587bfc6b"
      },
      "source": [
        "plt.imshow(x_training_np[0].reshape(28,28),cmap=plt.cm.gray)\n",
        "print(\"label: \" + str(y_training_np_copy[0]))"
      ],
      "execution_count": null,
      "outputs": [
        {
          "output_type": "stream",
          "text": [
            "label: 9\n"
          ],
          "name": "stdout"
        },
        {
          "output_type": "display_data",
          "data": {
            "image/png": "[encoded data removed]",
            "text/plain": [
              "<Figure size 432x288 with 1 Axes>"
            ]
          },
          "metadata": {
            "tags": [],
            "needs_background": "light"
          }
        }
      ]
    },
    {
      "cell_type": "markdown",
      "metadata": {
        "id": "3J5tnvHuoFm2"
      },
      "source": [
        "We can reshape our data and transform it into Pytorch Tensors to prepare it for the Neural Network we deviced in Question 1."
      ]
    },
    {
      "cell_type": "code",
      "metadata": {
        "id": "3rWdvJMNoNqo"
      },
      "source": [
        "#### Training Features\n",
        "reshaped_train = np.reshape(approx95_train,(approx95_train.shape[0],1,28,28))\n",
        "training_tensor = torch.from_numpy(reshaped_train)\n",
        "#### Training Labels\n",
        "labels_tensors_train = torch.from_numpy(y_training_np_copy)\n",
        "\n",
        "####Test Features\n",
        "reshaped_test = np.reshape(approx95_test,(approx95_test.shape[0],1,28,28))\n",
        "test_tensor = torch.from_numpy(reshaped_test)\n",
        "####Training Labels\n",
        "labels_tensors_test = torch.from_numpy(y_test_np_copy)"
      ],
      "execution_count": null,
      "outputs": []
    },
    {
      "cell_type": "markdown",
      "metadata": {
        "id": "69oU_JYJUJoO"
      },
      "source": [
        "Now that we know the Neural Network (in Sklearn) works, we can train the Neural Network from Question 1 with the retained features.\n",
        "\n",
        "# Part (ii)\n",
        "\n",
        "## The Neural Network:"
      ]
    },
    {
      "cell_type": "code",
      "metadata": {
        "id": "f70ap-XITYwz",
        "colab": {
          "base_uri": "https://localhost:8080/",
          "height": 418
        },
        "outputId": "440bacb9-3eae-49ec-d6ab-a9e9182ea6bc"
      },
      "source": [
        "def eval_net(epochs, batch_size):\n",
        "\n",
        "  ##### Prepare return values ##################################################\n",
        "  losses = []\n",
        "  train_acc = 0\n",
        "  test_acc = 0\n",
        "\n",
        "  ##### Create iterators for each dataset ######################################\n",
        "  train_loader = torch.utils.data.DataLoader(train_data, batch_size=batch_size, shuffle=True)\n",
        "  test_loader = torch.utils.data.DataLoader(test_data, batch_size=batch_size, shuffle=False)\n",
        "\n",
        "  ##### Define the network #####################################################\n",
        "  class Net(nn.Module):\n",
        "    def __init__(self):\n",
        "      super(Net, self).__init__()\n",
        "      self.conv1 = nn.Conv2d(1, 6, 3)     # 1 channel in, 6 filters out, 3x3 filters\n",
        "      self.pool = nn.MaxPool2d(2, 2)      # 2x2 pooling, with a stride of 2 (move the window by 2 pixels)\n",
        "      self.conv2 = nn.Conv2d(6, 16, 3)    # 6 filters in, 16 filters out, 3x3 filters\n",
        "      self.fc1 = nn.Linear(16 * 5 * 5, 120) # the 16 filtered images are reduced to 5x5 now, connect to 120 hidden units out\n",
        "      self.fc2 = nn.Linear(120, 84)       # 120 hidden units in, 84 hidden units out\n",
        "      self.fc3 = nn.Linear(84, 10)        # 84 hidden units in, 10 outputs units\n",
        "\n",
        "    def forward(self, x):\n",
        "      x = self.pool(F.relu(self.conv1(x)))\n",
        "      x = self.pool(F.relu(self.conv2(x)))\n",
        "      x = x.view(-1, 16 * 5 * 5) # .view() is similar to .reshape(), so this flattens x into a vector\n",
        "      x = F.relu(self.fc1(x))\n",
        "      x = F.relu(self.fc2(x))\n",
        "      x = F.log_softmax(self.fc3(x), dim=1)\n",
        "      return x\n",
        "  \n",
        "  ##### Initialize the network and optimizer ###################################\n",
        "  print(\"Initializing the network ...\")\n",
        "  net = Net()\n",
        "  criterion = nn.CrossEntropyLoss()\n",
        "  optimizer = optim.SGD(net.parameters(), lr=0.001, momentum=0.9) # lr = learning rate/step size\n",
        "\n",
        "  ##### Training the network ###################################################\n",
        "  print(\"Training the network ...\")\n",
        "  for e in range(epochs):  # loop over the dataset multiple times\n",
        "    print(\"Epoch: \", e+1)\n",
        "    for i, data in enumerate(train_loader, 0):\n",
        "      inputs, labels = data\n",
        "      optimizer.zero_grad() # zero the parameter gradients\n",
        "\n",
        "      outputs = net(inputs) # forward pass\n",
        "      loss = criterion(outputs, labels) # compute loss\n",
        "      loss.backward() # backward pass\n",
        "      optimizer.step() # gradient descent update\n",
        "\n",
        "      losses.append(loss.item())\n",
        "\n",
        "  ##### Evaluating the network on training data ################################\n",
        "  print(\"Evaluating on training data ...\")\n",
        "  correct = 0\n",
        "  total = 0\n",
        "  with torch.no_grad():\n",
        "    for data in train_loader:\n",
        "      inputs, labels = data\n",
        "      outputs = net(inputs)\n",
        "      _, predicted = torch.max(outputs.data, 1)\n",
        "      total += labels.size(0)\n",
        "      correct += (predicted == labels).sum().item()\n",
        "  train_acc = correct / total\n",
        "\n",
        "  ##### Evaluating the network on test data ####################################\n",
        "  print(\"Evaluating on test data ...\")\n",
        "  correct = 0\n",
        "  total = 0\n",
        "  with torch.no_grad():\n",
        "    for data in test_loader:\n",
        "      inputs, labels = data\n",
        "      outputs = net(inputs)\n",
        "      _, predicted = torch.max(outputs.data, 1)\n",
        "      total += labels.size(0)\n",
        "      correct += (predicted == labels).sum().item()\n",
        "  test_acc = correct / total\n",
        "\n",
        "  return losses, train_acc, test_acc, net\n",
        "\n",
        "losses, train_acc, test_acc,thenet = eval_net(epochs=3, batch_size=100)\n",
        "print(\"Training accuracy: \", train_acc)\n",
        "print(\"Test accuracy: \", test_acc)\n",
        "plt.plot(losses)\n",
        "plt.show()"
      ],
      "execution_count": null,
      "outputs": [
        {
          "output_type": "stream",
          "text": [
            "Initializing the network ...\n",
            "Training the network ...\n",
            "Epoch:  1\n",
            "Epoch:  2\n",
            "Epoch:  3\n",
            "Evaluating on training data ...\n",
            "Evaluating on test data ...\n",
            "Training accuracy:  0.905\n",
            "Test accuracy:  0.9132\n"
          ],
          "name": "stdout"
        },
        {
          "output_type": "display_data",
          "data": {
            "image/png": "[encoded data removed]",
            "text/plain": [
              "<Figure size 432x288 with 1 Axes>"
            ]
          },
          "metadata": {
            "tags": [],
            "needs_background": "light"
          }
        }
      ]
    },
    {
      "cell_type": "markdown",
      "metadata": {
        "id": "jOH6iXHA0AnF"
      },
      "source": [
        "Previous Network is the same one as Q1. "
      ]
    },
    {
      "cell_type": "code",
      "metadata": {
        "id": "IXctNVuez8B_"
      },
      "source": [
        "def eval_net(epochs):\n",
        "\n",
        "  ##### Prepare return values ##################################################\n",
        "  losses = []\n",
        "  train_acc = 0\n",
        "  test_acc = 0\n",
        " \n",
        "\n",
        "  ##### Define the network #####################################################\n",
        "  class Net(nn.Module):\n",
        "    def __init__(self):\n",
        "      super(Net, self).__init__()\n",
        "      self.conv1 = nn.Conv2d(1, 6, 3)     # 1 channel in, 6 filters out, 3x3 filters\n",
        "      self.pool = nn.MaxPool2d(2, 2)      # 2x2 pooling, with a stride of 2 (move the window by 2 pixels)\n",
        "      self.conv2 = nn.Conv2d(6, 16, 3)    # 6 filters in, 16 filters out, 3x3 filters\n",
        "      self.fc1 = nn.Linear(16 * 5 * 5, 120) # the 16 filtered images are reduced to 5x5 now, connect to 120 hidden units out\n",
        "      self.fc2 = nn.Linear(120, 84)       # 120 hidden units in, 84 hidden units out\n",
        "      self.fc3 = nn.Linear(84, 10)        # 84 hidden units in, 10 outputs units\n",
        "\n",
        "    def forward(self, x):\n",
        "      x = self.pool(F.relu(self.conv1(x)))\n",
        "      x = self.pool(F.relu(self.conv2(x)))\n",
        "      x = x.view(-1, 16 * 5 * 5) # .view() is similar to .reshape(), so this flattens x into a vector\n",
        "      x = F.relu(self.fc1(x))\n",
        "      x = F.relu(self.fc2(x))\n",
        "      x = F.log_softmax(self.fc3(x), dim=1)\n",
        "      return x\n",
        "  \n",
        "  ##### Initialize the network and optimizer ###################################\n",
        "  print(\"Initializing the network ...\")\n",
        "  net = Net()\n",
        "  criterion = nn.CrossEntropyLoss()\n",
        "  optimizer = optim.SGD(net.parameters(), lr=0.001, momentum=0.9) # lr = learning rate/step size\n",
        "\n",
        "  ##### Training the network ###################################################\n",
        "  print(\"Training the network ...\")\n",
        "  for e in range(epochs):  # loop over the dataset multiple times\n",
        "    print(\"Epoch: \", e+1)\n",
        "    ###TRAIN NETWORK\n",
        "    for i, data in enumerate(train_loader, 0):\n",
        "      inputs = training_tensor\n",
        "      labels = labels_tensors_train\n",
        "      optimizer.zero_grad() # zero the parameter gradients\n",
        "\n",
        "      outputs = net(inputs) # forward pass\n",
        "      loss = criterion(outputs, labels) # compute loss\n",
        "      loss.backward() # backward pass\n",
        "      optimizer.step() # gradient descent update\n",
        "\n",
        "      losses.append(loss.item())\n",
        "\n",
        "  ##### Evaluating the network on training data ################################\n",
        "  print(\"Evaluating on training data ...\")\n",
        "  correct = 0\n",
        "  total = 0\n",
        "  with torch.no_grad():\n",
        "    for data in train_loader:\n",
        "      inputs = training_tensor \n",
        "      labels = labels_tensors_train\n",
        "      outputs = net(inputs)\n",
        "      _, predicted = torch.max(outputs.data, 1)\n",
        "      total += labels.size(0)\n",
        "      correct += (predicted == labels).sum().item()\n",
        "  train_acc = correct / total\n",
        "\n",
        "  ##### Evaluating the network on test data ####################################\n",
        "  print(\"Evaluating on test data ...\")\n",
        "  correct = 0\n",
        "  total = 0\n",
        "  with torch.no_grad():\n",
        "    for data in test_loader:\n",
        "      inputs = test_tensor\n",
        "      labels = labels_tensors_test\n",
        "      outputs = net(inputs)\n",
        "      _, predicted = torch.max(outputs.data, 1)\n",
        "      total += labels.size(0)\n",
        "      correct += (predicted == labels).sum().item()\n",
        "  test_acc = correct / total\n",
        "\n",
        "  return losses, train_acc, test_acc, net"
      ],
      "execution_count": null,
      "outputs": []
    },
    {
      "cell_type": "code",
      "metadata": {
        "id": "u-Azskk30P44",
        "colab": {
          "base_uri": "https://localhost:8080/",
          "height": 463
        },
        "outputId": "8d4d55d2-c118-4a69-b55b-2a62af0a02d1"
      },
      "source": [
        "losses, train_acc, test_acc,thenet = eval_net(epochs=5)\n",
        "print(\"Training accuracy: \", train_acc)\n",
        "print(\"Test accuracy: \", test_acc)\n",
        "plt.plot(losses)\n",
        "plt.show()"
      ],
      "execution_count": null,
      "outputs": [
        {
          "output_type": "stream",
          "text": [
            "Initializing the network ...\n",
            "Training the network ...\n",
            "Epoch:  1\n",
            "Epoch:  2\n",
            "Epoch:  3\n",
            "Epoch:  4\n",
            "Epoch:  5\n",
            "Evaluating on training data ...\n",
            "Evaluating on test data ...\n",
            "Training accuracy:  0.10138333333333334\n",
            "Test accuracy:  0.102\n"
          ],
          "name": "stdout"
        },
        {
          "output_type": "display_data",
          "data": {
            "image/png": "[encoded data removed]",
            "text/plain": [
              "<Figure size 432x288 with 1 Axes>"
            ]
          },
          "metadata": {
            "tags": [],
            "needs_background": "light"
          }
        }
      ]
    },
    {
      "cell_type": "markdown",
      "metadata": {
        "id": "KVfdWes-0vwW"
      },
      "source": [
        "The neural network is not evaluating properly.\n",
        "The issue being is the way the data is being fed into the model. I am having a difficult time restructuring the PCA data I generated in such a way that the model recognizes the input. The issue being is that I cannot use the trainloader Pytorch function."
      ]
    }
  ]
}