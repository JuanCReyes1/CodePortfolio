{
  "nbformat": 4,
  "nbformat_minor": 0,
  "metadata": {
    "colab": {
      "name": "IntroToPyTorch.ipynb",
      "provenance": [],
      "authorship_tag": "ABX9TyObLyzaqKuREvOzNKlGJC/e",
      "include_colab_link": true
    },
    "kernelspec": {
      "name": "python3",
      "display_name": "Python 3"
    },
    "language_info": {
      "name": "python"
    }
  },
  "cells": [
    {
      "cell_type": "markdown",
      "metadata": {
        "id": "view-in-github",
        "colab_type": "text"
      },
      "source": [
        "<a href=\"https://colab.research.google.com/github/JuanCReyes1/CodePortfolio/blob/main/IntroToPyTorch.ipynb\" target=\"_parent\"><img src=\"https://colab.research.google.com/assets/colab-badge.svg\" alt=\"Open In Colab\"/></a>"
      ]
    },
    {
      "cell_type": "markdown",
      "source": [
        "**Introduction to Deep Learning with PyTorch**\n",
        "\n",
        "by Juan C. Reyes\n",
        "\n",
        "Geospatial Data Analytics 2022"
      ],
      "metadata": {
        "id": "qB3hBWRIUIH6"
      }
    },
    {
      "cell_type": "markdown",
      "source": [
        "Import necessary PyTorch for working with neural networks.\n",
        "\n",
        "Import numpy for performing mathematical operations.\n",
        "\n",
        "Import matplotlib for producing graphs. "
      ],
      "metadata": {
        "id": "LPSyza95UmVZ"
      }
    },
    {
      "cell_type": "code",
      "source": [
        "# PyTorch packages\n",
        "import torch\n",
        "import torch.nn as nn\n",
        "import torch.nn.functional as F\n",
        "import torch.optim as optim\n",
        "\n",
        "# torchvision for loading MNIST dataset\n",
        "import torchvision\n",
        "from torchvision import datasets, transforms\n",
        "\n",
        "# For Mathematical Operations\n",
        "import numpy as np\n",
        "\n",
        "# For plotting\n",
        "import matplotlib.pyplot as plt\n",
        "%matplotlib inline \n",
        "# %matplotlib inline sets the backend of matplotlib to the 'inline' backend: \n",
        "# With this backend, the output of plotting commands is displayed inline within frontends like the \n",
        "# Jupyter notebook, directly below the code cell that produced it. \n",
        "# The resulting plots will then also be stored in the notebook document."
      ],
      "metadata": {
        "id": "MUGjmx1qKH78"
      },
      "execution_count": 3,
      "outputs": []
    },
    {
      "cell_type": "markdown",
      "source": [
        "Google Colab comes \"pre-loaded\" with MNIST data.\n",
        "We can download the training and testing data directly into this notebook. The images are stored as a PIL image and must be transformed into a tensor in order to be fed into the neural network.\n",
        "\n",
        "https://en.wikipedia.org/wiki/MNIST_database\n",
        "\n",
        "torchvision.transforms documentation : https://pytorch.org/vision/stable/transforms.html\n",
        "\n",
        "ToTensor: Converts a PIL Image or numpy.ndarray (H x W x C) in the range [0, 255] to a torch.FloatTensor of shape (C x H x W) in the range [0.0, 1.0].\n",
        "\n",
        "Normalize: Normalize a float tensor image with mean and standard deviation. This transform does not support PIL Image.\n",
        "\n",
        "Why do we normalize the images?\n",
        "*Subtracting the dataset mean serves to \"center\" the data. Additionally, you ideally would like to divide by the sttdev of that feature or pixel as well if you want to normalize each feature value to a z-score.*\n",
        "\n",
        "https://stats.stackexchange.com/questions/211436/why-normalize-images-by-subtracting-datasets-image-mean-instead-of-the-current\n",
        "\n"
      ],
      "metadata": {
        "id": "dZMrMBHRVLzK"
      }
    },
    {
      "cell_type": "code",
      "source": [
        "# Download the training data\n",
        "# Set the train parameter to \"True\" to download the training set.\n",
        "train_data = datasets.MNIST('./mnist_data', download=True, train=True,\n",
        "                            transform=transforms.Compose([\n",
        "                              transforms.ToTensor(),\n",
        "                              transforms.Normalize((0.5,), (0.5,))\n",
        "                            ]))\n",
        "\n",
        "# Download the test data\n",
        "test_data = datasets.MNIST('./mnist_data', download=True, train=False,\n",
        "                            transform=transforms.Compose([\n",
        "                              transforms.ToTensor(),\n",
        "                              transforms.Normalize((0.5,), (0.5,))\n",
        "                            ]))\n",
        "\n",
        "# Number classes, integers from 0-9.\n",
        "classes = [i for i in range(10)]\n",
        "\n",
        "# Print the number of training / testing sets\n",
        "print(\"Training examples: \", len(train_data))\n",
        "print(\"Test examples: \", len(test_data))"
      ],
      "metadata": {
        "colab": {
          "base_uri": "https://localhost:8080/"
        },
        "id": "2Y1lekcGKKLo",
        "outputId": "0ed04f7a-880e-467a-f06e-39323b2586a3"
      },
      "execution_count": 5,
      "outputs": [
        {
          "output_type": "stream",
          "name": "stdout",
          "text": [
            "Training examples:  60000\n",
            "Test examples:  10000\n"
          ]
        }
      ]
    },
    {
      "cell_type": "markdown",
      "source": [
        "Define a function to take an image, convert it into a numpy image and use matplotlib to display the image.\n",
        "\n",
        "*Both in Pytorch and Tensorflow, the .numpy() method is pretty much straightforward. It converts a tensor object into an numpy.ndarray object. This implicitly means that the converted tensor will be now processed on the CPU.*\n",
        "https://stackoverflow.com/questions/63968868/what-does-the-numpy-function-do"
      ],
      "metadata": {
        "id": "KXibcWbPO50x"
      }
    },
    {
      "cell_type": "code",
      "source": [
        "# function to show an image\n",
        "def imshow(img):\n",
        "    img = 1*img / 2 + 0.5 # unnormalize for the purpose of visualizing the img\n",
        "    npimg = img.numpy()\n",
        "    plt.imshow(np.transpose(npimg, (1, 2, 0)))\n",
        "    #plt.imshow(img) #why do we need to transpose? what happens if we dont?\n"
      ],
      "metadata": {
        "id": "KDQ4eAWyKsSP"
      },
      "execution_count": 58,
      "outputs": []
    },
    {
      "cell_type": "markdown",
      "source": [
        "Data loader and iter:\n",
        "https://pytorch.org/tutorials/beginner/basics/data_tutorial.html\n",
        "\n",
        "*PyTorch provides two data primitives: torch.utils.data.DataLoader and torch.utils.data.Dataset that allow you to use pre-loaded datasets as well as your own data. Dataset stores the samples and their corresponding labels, and DataLoader wraps an iterable around the Dataset to enable easy access to the samples.*"
      ],
      "metadata": {
        "id": "18JcOse6MOCZ"
      }
    },
    {
      "cell_type": "code",
      "source": [
        "sample_picture = torch.utils.data.DataLoader(train_data, batch_size=5, shuffle=True)\n",
        "print(type(sample_picture))\n"
      ],
      "metadata": {
        "colab": {
          "base_uri": "https://localhost:8080/"
        },
        "id": "O2jgjRl5KSKn",
        "outputId": "87b352c4-9c0a-48bc-94de-9a15ad903359"
      },
      "execution_count": 60,
      "outputs": [
        {
          "output_type": "stream",
          "name": "stdout",
          "text": [
            "<class 'torch.utils.data.dataloader.DataLoader'>\n"
          ]
        }
      ]
    },
    {
      "cell_type": "markdown",
      "source": [
        "*We have loaded that dataset into the DataLoader and can iterate through the dataset as needed. Each iteration below returns a batch of train_features and train_labels (containing batch_size=5 features and labels respectively). Because we specified shuffle=True, after we iterate over all batches the data is shuffled (for finer-grained control over the data loading order, take a look at Samplers).*\n",
        "\n",
        "https://stackoverflow.com/questions/62549990/what-does-next-and-iter-do-in-pytorchs-dataloader"
      ],
      "metadata": {
        "id": "OikNpXeWPK24"
      }
    },
    {
      "cell_type": "code",
      "source": [
        "# Create an iterable dataiter, which then is iterated through by the .next() function.\n",
        "dataiter = iter(sample_picture)\n",
        "print(type(dataiter))\n",
        "images, labels = dataiter.next()\n",
        "\n",
        "# Display the size of the images\n",
        "print(images.size())\n",
        "# show images in a grid\n",
        "imshow(torchvision.utils.make_grid(images))\n",
        "# print labels\n",
        "print(' '.join('%7s' % classes[labels[j]] for j in range(images.shape[0])))"
      ],
      "metadata": {
        "colab": {
          "base_uri": "https://localhost:8080/",
          "height": 175
        },
        "id": "GE6A1eNjND1K",
        "outputId": "ad037691-2ebb-4da9-d3fa-776251a40122"
      },
      "execution_count": 61,
      "outputs": [
        {
          "output_type": "stream",
          "name": "stdout",
          "text": [
            "<class 'torch.utils.data.dataloader._SingleProcessDataLoaderIter'>\n",
            "torch.Size([5, 1, 28, 28])\n",
            "      8       6       3       9       7\n"
          ]
        },
        {
          "output_type": "display_data",
          "data": {
            "image/png": "[encoded data removed]",
            "text/plain": [
              "<Figure size 432x288 with 1 Axes>"
            ]
          },
          "metadata": {
            "needs_background": "light"
          }
        }
      ]
    },
    {
      "cell_type": "markdown",
      "source": [
        "Now that our data has been loaded, we can proceed to implement a neural network which will take the tensor image data, and train the neural network classifier."
      ],
      "metadata": {
        "id": "X_HWu0Lhgc_j"
      }
    }
  ]
}